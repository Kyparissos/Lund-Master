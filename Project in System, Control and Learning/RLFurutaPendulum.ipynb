{
 "cells": [
  {
   "cell_type": "code",
   "execution_count": null,
   "id": "5f08a8a4",
   "metadata": {},
   "outputs": [],
   "source": [
    "using ReinforcementLearning\n",
    "using StableRNGs\n",
    "using Flux\n",
    "using Flux.Losses\n",
    "using IntervalSets"
   ]
  },
  {
   "cell_type": "code",
   "execution_count": null,
   "id": "edf8376e",
   "metadata": {},
   "outputs": [],
   "source": [
    "Base.@kwdef mutable struct Env <: AbstractEnv\n",
    "           reward::Union{Nothing, Int} = nothing\n",
    "       end\n",
    "RLBase.action_space(env::LotteryEnv) = (:PowerRich, :MegaHaul, nothing)\n",
    "\n",
    "RLBase.reward(env::LotteryEnv) = env.reward\n",
    "\n",
    "RLBase.state(env::LotteryEnv) = !isnothing(env.reward)\n",
    "\n",
    "RLBase.state_space(env::LotteryEnv) = [false, true]\n",
    "\n",
    "RLBase.is_terminated(env::LotteryEnv) = !isnothing(env.reward)\n",
    "\n",
    "RLBase.reset!(env::LotteryEnv) = env.reward = nothing\n",
    "\n",
    "function (x::LotteryEnv)(action)\n",
    "           if action == :PowerRich\n",
    "               x.reward = rand() < 0.01 ? 100_000_000 : -10\n",
    "           elseif action == :MegaHaul\n",
    "               x.reward = rand() < 0.05 ? 1_000_000 : -10\n",
    "           elseif isnothing(action) x.reward = 0\n",
    "           else\n",
    "               @error \"unknown action of $action\"\n",
    "           end\n",
    "       end"
   ]
  }
 ],
 "metadata": {
  "kernelspec": {
   "display_name": "Julia 1.8.2",
   "language": "julia",
   "name": "julia-1.8"
  },
  "language_info": {
   "file_extension": ".jl",
   "mimetype": "application/julia",
   "name": "julia",
   "version": "1.8.2"
  }
 },
 "nbformat": 4,
 "nbformat_minor": 5
}
