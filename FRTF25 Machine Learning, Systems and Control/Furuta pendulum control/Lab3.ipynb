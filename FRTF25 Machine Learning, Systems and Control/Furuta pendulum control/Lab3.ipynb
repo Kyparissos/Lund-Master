{
 "cells": [
  {
   "cell_type": "markdown",
   "metadata": {},
   "source": [
    "# Lab 3: Stabilization and swing-up"
   ]
  },
  {
   "cell_type": "code",
   "execution_count": null,
   "metadata": {},
   "outputs": [],
   "source": [
    "import Pkg; Pkg.add(\"FurutaPendulums\")\n",
    "using ControlSystems, LinearAlgebra, FurutaPendulums, Plots"
   ]
  },
  {
   "cell_type": "code",
   "execution_count": null,
   "metadata": {},
   "outputs": [],
   "source": [
    "# If you want to run it locally you can run a simulated version\n",
    "furuta = SimulatedFurutaPendulum()\n",
    "#furuta = FurutaPendulum()"
   ]
  },
  {
   "cell_type": "markdown",
   "metadata": {},
   "source": [
    "## Stabilization using model based on measured parameters\n",
    "To stabilize the pendulum let us begin considering the linearized models obtained using the parameters from the manufacturer presented in lab 2, and let us initially neglect the effect of friction.\n",
    "\n",
    "The model for the pendulum linearized around the downward equilibrium is then"
   ]
  },
  {
   "cell_type": "code",
   "execution_count": null,
   "metadata": {},
   "outputs": [],
   "source": [
    "A_down = [\n",
    "    0.0  1.0     0.0     0.0\n",
    "    0.0  0.0   -10.9962  0.0\n",
    "    0.0  0.0     0.0     1.0\n",
    "    0.0  0.0  -238.766   0.0\n",
    "]\n",
    "\n",
    "B_down = [\n",
    "    0.0\n",
    " 1474.4258\n",
    "    0.0\n",
    " 1472.1435\n",
    "]"
   ]
  },
  {
   "cell_type": "markdown",
   "metadata": {},
   "source": [
    "The input to the above model is motor voltage in Volts (same unit as control signal) and the outputs are the angles in radians (same unit as measurement signal). Note that this is the friction-free model. How can you see that?"
   ]
  },
  {
   "cell_type": "markdown",
   "metadata": {},
   "source": [
    "A: "
   ]
  },
  {
   "cell_type": "markdown",
   "metadata": {},
   "source": [
    "See if you can arrive at the same A and B matrices from the manufacturer parameter values reported in lab 2. (If you cannot, ask for help, but don't get stuck here, instead move on with the matrices above)."
   ]
  },
  {
   "cell_type": "markdown",
   "metadata": {},
   "source": [
    "A:"
   ]
  },
  {
   "cell_type": "markdown",
   "metadata": {},
   "source": [
    "The demo controller of the Furuta pendulum uses a linear state feedback $u=-Kx$, where $x=[\\varphi\\ \\dot{\\varphi}\\ \\theta\\ \\dot{\\theta}]^\\top$, and where the closed loop poles are the eigenvalues, $\\lambda(A-BK)=[-380, -40, -15, 0]^\\top$.\n",
    "\n",
    "The code skeleton below runs a state feedback control loop. Compute a pole placement (in Julia using ControlSystems.jl or in Matlab) so that you end up with the closed-loop poles above for the system linearized around its downward position. Before doing this, verify that you can achieve arbitrary pole placements by investigating controllability of the linearized systems."
   ]
  },
  {
   "cell_type": "markdown",
   "metadata": {},
   "source": [
    "A:"
   ]
  },
  {
   "cell_type": "markdown",
   "metadata": {},
   "source": [
    "Run an experiment where the pendulum is first distrubed so it is swinging back-and-forth, and then the controller is activated. Compare the results you get from your pole placement designs with those you get for $K=0$.\n",
    "\n",
    "To measure values we use the method `measure(furuta)` that is exported from the `FurutaPendulums` package. It returns a vector `[ϕ, dϕ, θ, dθ]` where the velocities are calculated similarly to what you have done so far, but with some added filtering to remove some noise. The arm angle is also corrected to have zero mean up, so for this case when we have the pendulum linearized around the downward position you will have to correct for this.\n",
    "\n",
    "If you want to use Julia the [documentation](https://juliacontrol.github.io/ControlSystems.jl/latest/) for `ControlSystems.jl` is a good resource. Many things will be similar to Matlab, such as creating a state space using `ss` or placing closed loop poles using `place`."
   ]
  },
  {
   "cell_type": "code",
   "execution_count": null,
   "metadata": {},
   "outputs": [],
   "source": [
    "# A \n",
    "# State feedback controller\n",
    "K = [0, 0, 0, 0]"
   ]
  },
  {
   "cell_type": "code",
   "execution_count": null,
   "metadata": {},
   "outputs": [],
   "source": [
    "# Example for control in downward equilibrium\n",
    "\n",
    "# Disturb process\n",
    "control(furuta, 1.0)\n",
    "sleep(0.2)\n",
    "control(furuta, 0.0)\n",
    "\n",
    "h = 0.01\n",
    "last_time = periodic_wait(furuta, 0.0, 0.0)\n",
    "# Run controller\n",
    "for i in 1:100\n",
    "    x = measure(furuta)\n",
    "    x[3] = rem2pi(x[3] + pi, RoundNearest) # This will make sure that -pi < theta < pi, and 0 is down\n",
    "    u = clamp(-dot(K, x), -5, 5) # We clamp the signal so nothing crazy is sent to the furuta\n",
    "    control(furuta, u)\n",
    "    last_time = periodic_wait(furuta, last_time, h)\n",
    "end\n",
    "control(furuta, 0.0)"
   ]
  },
  {
   "cell_type": "markdown",
   "metadata": {},
   "source": [
    "Now let us do the same thing for the upward equilibrium. For this to work we first need to swing the pendulum up. The code below does that for us, and then hands over to a linear state feedback controller. \n",
    "\n",
    "The swingup controller is an example of a nonlinear controller, as opposed to the linear state feedback controlllers we use to stabilize the pendulum. Its working principle is based on choosing the control signal to pump energy into the system. You can read more about how this is achieved [here](./papers/pendulum_swingup.pdf)."
   ]
  },
  {
   "cell_type": "code",
   "execution_count": null,
   "metadata": {},
   "outputs": [],
   "source": [
    "function swingup(x)\n",
    "    C = 2000 \n",
    "    K_arm = 0.00000387 # kinetic energy constant pendulum arm\n",
    "    target_energy = 0.0047\n",
    "    \n",
    "    arm_energy = (K_arm * x[4]^2 + 0.0054 * 9.8 * 0.07/2 * (1 + cos(x[3])))\n",
    "    dtheta = x[4] * (abs(x[4]) >= 2π / 2^11)\n",
    "    return -C * (arm_energy - target_energy) * (dtheta * cos(x[3]) > 0 ? -1 : 1)\n",
    "end"
   ]
  },
  {
   "cell_type": "code",
   "execution_count": null,
   "metadata": {},
   "outputs": [],
   "source": [
    "function create_feedback_controller(K)\n",
    "    return x -> -dot(K, x) \n",
    "end\n",
    "\n",
    "K = [0, 0, 0, 0]\n",
    "# This generates a function feedbackcontrol(x) = -dot(K, x) \n",
    "feedbackcontrol = create_feedback_controller(K) "
   ]
  },
  {
   "cell_type": "markdown",
   "metadata": {},
   "source": [
    "For the feedback controller to work you will need to replace $K=0$ with a meaningful controller. To do this, make a pole placement for the upward linearization that results in the same poles as the one you just tried out for downward control. The upwards linearization is very similar to the downwards one and only require negating the two parameters $A_{43}$ and $B_4$."
   ]
  },
  {
   "cell_type": "code",
   "execution_count": null,
   "metadata": {},
   "outputs": [],
   "source": [
    "# A"
   ]
  },
  {
   "cell_type": "markdown",
   "metadata": {},
   "source": [
    "Next write a simulation loop that starts running the `swingup` as long as we are not within some angle from upright position, and as soon as we are within this angle `-ν < θ < ν` it switches to run `feedbackcontrol`. A reasonable angle (in radians) can be around `ν=0.6`. Run it for long enough so you can see the pendulum being balanced for a while.\n",
    "\n",
    "One tip is to also limit the control signal to some interval like $[-5, 5]$ to avoid huge signals."
   ]
  },
  {
   "cell_type": "code",
   "execution_count": null,
   "metadata": {},
   "outputs": [],
   "source": [
    "# A"
   ]
  },
  {
   "cell_type": "markdown",
   "metadata": {},
   "source": [
    "## Control based on model identified from data\n",
    "Now you should have controllers that work OK for the downward and upward equilibria. \n",
    "\n",
    "Take the identified linear models from Lab 2, the $A$ and $B$ matrices you identified there, and use the same design procedure. How do the resulting control performances compare? \n",
    "\n",
    "Also, investigate how your identified models differ from the ones used above by computing their poles and by plotting their Bode diagrams in the same figure. You can do this here in Julia using ControlSystems.jl, or if you prefer, in Matlab. \n",
    "To do it in Julia there is the `ControlSystems.jl` [documentation](https://juliacontrol.github.io/ControlSystems.jl/latest/), and a hint can be to look at the functions `ss`, `bodeplot` and `pzmap`. If you want to add to an existing figure instead of creating a new one you would instead use the function `bodeplot!`, similar to the Matlab `hold on`."
   ]
  },
  {
   "cell_type": "code",
   "execution_count": null,
   "metadata": {},
   "outputs": [],
   "source": [
    "# A"
   ]
  },
  {
   "cell_type": "markdown",
   "metadata": {},
   "source": [
    "Finally, pick the upward-stabilizing controller that turned out best so far, and now try to improve it manually by fine-tuning its parameters. You can do this by tuning the elements of $K$ directly (what are their physical interpretations?) or by moving the pole locations and re-doing the pole placement. In general, the faster the closed loop poles, the better control performance as long as the model matches reality well. If there is a mis-match, too fast poles will typically result in poorer performace. There is thus a trade-off decided by the quality of the model."
   ]
  },
  {
   "cell_type": "code",
   "execution_count": null,
   "metadata": {},
   "outputs": [],
   "source": [
    "# A"
   ]
  }
 ],
 "metadata": {
  "kernelspec": {
   "display_name": "Julia 1.8.2",
   "language": "julia",
   "name": "julia-1.8"
  },
  "language_info": {
   "file_extension": ".jl",
   "mimetype": "application/julia",
   "name": "julia",
   "version": "1.8.2"
  }
 },
 "nbformat": 4,
 "nbformat_minor": 4
}
