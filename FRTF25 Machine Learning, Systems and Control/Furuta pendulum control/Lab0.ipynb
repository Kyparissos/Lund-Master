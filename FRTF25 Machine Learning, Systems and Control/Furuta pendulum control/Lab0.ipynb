{
 "cells": [
  {
   "cell_type": "markdown",
   "metadata": {},
   "source": [
    "# Welcome to Jupyter"
   ]
  },
  {
   "cell_type": "markdown",
   "metadata": {},
   "source": [
    "This course will use Jupyter lab as the software environment for the Automatic Control part of the course.\n",
    "\n",
    "Jupyter lab is a web-based interface, with a file browser (to the left), a main area where this notebook is now displayed, and a few other bits that you will see later.\n",
    "\n"
   ]
  },
  {
   "cell_type": "markdown",
   "metadata": {},
   "source": [
    "One useful feature of Jupyter Notebooks is that they allow mixing text (with fancy formatting) and executable code (organized in \"cells\"), and that the results of executing code gets printed.\n",
    "\n",
    "If you click in the below code cell, containing the code `println(\"I can see the output!\")`, and press shift+enter (or shift+return), then you should indeed see the output."
   ]
  },
  {
   "cell_type": "code",
   "execution_count": null,
   "metadata": {},
   "outputs": [],
   "source": [
    "println(\"I can see the output.\")"
   ]
  },
  {
   "cell_type": "markdown",
   "metadata": {},
   "source": [
    "You should now see the text \"I can see the output.\", and the cell should have been give a number which is shown to the left of the cell, telling us that it was the first cell to be executed. If you execute the cell again, it should get the number 2 instead.\n",
    "\n",
    "While jupyter notebooks are probably most well known for use with Python, in this course we will use them with Julia (which is the first part of the name **Ju**pyter).\n",
    "\n",
    "Let's define a function in one cell and use it in the next."
   ]
  },
  {
   "cell_type": "code",
   "execution_count": null,
   "metadata": {},
   "outputs": [],
   "source": [
    "p(x) = x^2 - x + 0.18"
   ]
  },
  {
   "cell_type": "code",
   "execution_count": null,
   "metadata": {},
   "outputs": [],
   "source": [
    "p(1.2)"
   ]
  },
  {
   "cell_type": "markdown",
   "metadata": {},
   "source": [
    "There are more ways to execute the cells in a notebook than pressing shift+enter, including using the buttons in the toolbar just above the notebook, and via the menus at the top, but we will not focus on them now."
   ]
  },
  {
   "cell_type": "markdown",
   "metadata": {},
   "source": [
    "At the bottom left of the screen, there should now be a text saying that we are using a Julia Kernel, and that the kernel is currently *Idle*. When we run a longer computation, we will see that change to *Busy* instead. There is also a place at the top right where it says that the kernel is Julia, with a nearby circle. While a computation is running, the circle will be filled. In addition, the tab in the webbrowser might change its icon to an hourglass while the kernel is busy.\n",
    "\n",
    "Let's try something that keeps the kernel \"busy\" for 10 seconds. Execute the following code cell, and look at the indicators to see that the kernel becomes *Busy* during the execution."
   ]
  },
  {
   "cell_type": "code",
   "execution_count": null,
   "metadata": {},
   "outputs": [],
   "source": [
    "sleep(10)"
   ]
  },
  {
   "cell_type": "markdown",
   "metadata": {},
   "source": [
    "This setup with jupyter and notebooks can be used with many programming languages, with the programming language providing a kernel that the jupyter server can use for executing commands, for getting help texts, and for autocompletion.\n",
    "\n",
    "Let's try those next.\n",
    "\n",
    "If we know that there is a function named `range`, but we do not remember precisely what it does or what arguments it takes, we can type `range` and then hit SHIFT+TAB, to get jupyter to display a help text for that function.\n",
    "\n",
    "You could try that in the next cell:"
   ]
  },
  {
   "cell_type": "code",
   "execution_count": null,
   "metadata": {},
   "outputs": [],
   "source": [
    "range"
   ]
  },
  {
   "cell_type": "markdown",
   "metadata": {},
   "source": [
    "We can also get autocompletion with TAB, so you could type `cos`, then press TAB to see the names of the five functions whose name starts with `cos`. If you do not know what, e.g., `cosd` does, you can then select it from the autocompletions, and press SHIFT+TAB to get a help message telling you that it returns the cosine, for an argument given in degrees."
   ]
  },
  {
   "cell_type": "code",
   "execution_count": null,
   "metadata": {},
   "outputs": [],
   "source": [
    "cos"
   ]
  },
  {
   "cell_type": "markdown",
   "metadata": {},
   "source": [
    "# Welcome to Julia"
   ]
  },
  {
   "cell_type": "markdown",
   "metadata": {},
   "source": [
    "Now, let's turn our attention to Julia. \n",
    "\n",
    "Julia is a programming language, intended to solve problems you may have seen solved using matlab or python in other contexts. Its syntax is a bit different from matlab/python, but for many problems whose solution uses matrices, vectors, function and loops to compute the answer, then then generates some plots of the data, the Julia solution is often fairly similar to the matlab/python solutions."
   ]
  },
  {
   "cell_type": "markdown",
   "metadata": {},
   "source": [
    "We show some simple examples of julia code below, and a \"[cheatsheet](https://cheatsheets.quantecon.org/julia-cheatsheet.html)\" summarizing Julia syntax, or a [comparison](https://cheatsheets.quantecon.org/index.html) of operations between matlab, python and Julia will probably be helpful.\n",
    "\n",
    "If you want to learn more, the internet contains a lot of resources, and [JuliaAcademy](https://github.com/JuliaAcademy) in particular has several good tutorials.\n",
    "\n",
    "You could look at some parts of their [Introduction to Julia](https://github.com/JuliaAcademy/JuliaTutorials/tree/master/introductory-tutorials/intro-to-julia/short-version) series, such as [Getting to know Julia](https://github.com/JuliaAcademy/JuliaTutorials/blob/master/introductory-tutorials/intro-to-julia/short-version/01.Getting_to_know_Julia.ipynb) and [Introduction to Plotting](https://github.com/JuliaAcademy/JuliaTutorials/blob/master/introductory-tutorials/intro-to-julia/short-version/04.Intro_to_plotting.ipynb).\n",
    "\n",
    "You can download the files directly, or clone their repository, and you should then be able to navigate your way to those files using the file browser to the left of this notebook area. If you download the files to your computer, you can use the upload button above the file selection area to upload it to your home directory here in jupyterlab, or you can look at the \"launcher\" and open a terminal in which you can use git, but there are of course a large number of other mehthods you could use."
   ]
  },
  {
   "cell_type": "markdown",
   "metadata": {},
   "source": [
    "Now, try the following code snippets, and make sure you understand what is happening. "
   ]
  },
  {
   "cell_type": "markdown",
   "metadata": {},
   "source": [
    "First, let's define a few values: a number, a string, a vector, a matrix, a function, and finally the same function in a different way."
   ]
  },
  {
   "cell_type": "code",
   "execution_count": null,
   "metadata": {},
   "outputs": [],
   "source": [
    "an_integer = 2\n",
    "a_string = \"Hello\"\n",
    "a_vector = [1 2 3]\n",
    "a_matrix = [1 2; 3 4]\n",
    "a_function(x) = sin(x)^2\n",
    "\n",
    "function the_same_function(x) \n",
    "    sin(x)^2\n",
    "end"
   ]
  },
  {
   "cell_type": "markdown",
   "metadata": {},
   "source": [
    "Let's look at a few different ways of printing things in a notebook\n",
    "* `@show expression` is a macro that takes an expression and prints `expression = value` where value is the evaluated expression.\n",
    "* `println(expression)` prints the evaluated expression\n",
    "* In a notebook, the final statement of a block will be evaluated and displayed. This will often use a less compressed style of showing the value than the other two."
   ]
  },
  {
   "cell_type": "code",
   "execution_count": null,
   "metadata": {},
   "outputs": [],
   "source": [
    "@show a_matrix\n",
    "println(\"=============\")\n",
    "println(a_matrix)\n",
    "println(\"=============\")\n",
    "a_matrix"
   ]
  },
  {
   "cell_type": "markdown",
   "metadata": {},
   "source": [
    "Let's now use `@show` to look at all the values"
   ]
  },
  {
   "cell_type": "code",
   "execution_count": null,
   "metadata": {},
   "outputs": [],
   "source": [
    "@show an_integer\n",
    "@show a_string\n",
    "@show a_vector\n",
    "@show a_matrix\n",
    "@show a_function\n",
    "@show the_same_function;"
   ]
  },
  {
   "cell_type": "markdown",
   "metadata": {},
   "source": [
    "(The `;` ending the last line is not needed at all, and it just stops jupyter from displaying the returned value of the final statement.)"
   ]
  },
  {
   "cell_type": "markdown",
   "metadata": {},
   "source": [
    "Julia also allows for unicode characters, allowing for many mathematical symbols in the language. For example both $\\pi$ and pi exist as constants and are defined as the same irrational construct. If you would want to write $\\pi$ you write `\\pi<tab>`, and most simple latex symbols can be added in a similar fashion."
   ]
  },
  {
   "cell_type": "code",
   "execution_count": null,
   "metadata": {},
   "outputs": [],
   "source": [
    "θ = 3.4\n",
    "θ > π"
   ]
  },
  {
   "cell_type": "markdown",
   "metadata": {},
   "source": [
    "Let's give the function the name `f` and call it"
   ]
  },
  {
   "cell_type": "code",
   "execution_count": null,
   "metadata": {},
   "outputs": [],
   "source": [
    "f = a_function\n",
    "\n",
    "@show f(an_integer)\n",
    "@show f(a_matrix);"
   ]
  },
  {
   "cell_type": "markdown",
   "metadata": {},
   "source": [
    "We note that our function worked just as well on a matrix as on a number, because it used the operations `sin` and `^2` and both of those have definitions for both numbers and matrices.\n",
    "\n",
    "If we try to use the function on our vector, it will fail, as the operations we use in our function (the error message mentions the `sin`-function) are only defined for square matrices."
   ]
  },
  {
   "cell_type": "code",
   "execution_count": null,
   "metadata": {},
   "outputs": [],
   "source": [
    "@show f(a_vector)"
   ]
  },
  {
   "cell_type": "markdown",
   "metadata": {},
   "source": [
    "If we want to apply the function componentwise to our vector, there are several ways of achieving that result, with four shown below. We will not delve more deeply into how they differ, and Julia has many features that we will not mention at all in this course.\n",
    "\n",
    "Briefly, \n",
    " * The function `map` applies a function to every element of a vector (and it also works on other datatypes).\n",
    " * The `[ ... ]` notation is called a *comprehension* and it essentially expands to a for loop populating a newly created vector by computing the expression, in this case `f(x)`\n",
    " * Dot-notation is often used in julia for element-wise operations, and the example `f.(a_vector)` will apply `f` to each element in `a_vector` and populate a new vector with the result."
   ]
  },
  {
   "cell_type": "code",
   "execution_count": null,
   "metadata": {},
   "outputs": [],
   "source": [
    "@show map(f, a_vector)\n",
    "@show [f(x) for x in a_vector]\n",
    "@show f.(a_vector);"
   ]
  },
  {
   "cell_type": "markdown",
   "metadata": {},
   "source": [
    "The above cells used `@show` to print the output, and a `;` to skip printing of the last value computed by the cell. If we instead let it print the last computed value, it will show the structure of the matrix more clearly."
   ]
  },
  {
   "cell_type": "code",
   "execution_count": null,
   "metadata": {},
   "outputs": [],
   "source": [
    "f(a_matrix)"
   ]
  },
  {
   "cell_type": "markdown",
   "metadata": {},
   "source": [
    "We can load the package named Plots and we can then plot the function we defined."
   ]
  },
  {
   "cell_type": "code",
   "execution_count": null,
   "metadata": {},
   "outputs": [],
   "source": [
    "using Plots"
   ]
  },
  {
   "cell_type": "markdown",
   "metadata": {},
   "source": [
    "We create a vector `xs` of numbers from 0 to 10, and a vector `ys` defined via an \"array comprehension\". There are several ways of defining vectors and matrices in Julia, and this just shows two of them.\n",
    "\n",
    "(Generating a plot also takes quite some time the first time, and will then become faster. Generally, when julia does something for the first time, it generates and compiles a lot of code for it, which can take some time. Later calls to the same functions can then use the compiled code, and be faster.)"
   ]
  },
  {
   "cell_type": "code",
   "execution_count": null,
   "metadata": {},
   "outputs": [],
   "source": [
    "xs = range(0, 10, length=100)\n",
    "ys = [f(x) for x in xs]\n",
    "\n",
    "plot(xs, ys)"
   ]
  },
  {
   "cell_type": "markdown",
   "metadata": {},
   "source": [
    "Often we want multiple plots in the same figure, this can also be achieved in many ways. Here we se how to add to a previous plot by calling `plot!`, the exclamation mark is a convention in julia to show that the function mutates the state in some way, here by changing `p1` by adding another line to it."
   ]
  },
  {
   "cell_type": "code",
   "execution_count": null,
   "metadata": {},
   "outputs": [],
   "source": [
    "p1 = plot(xs, ys)\n",
    "plot!(p1, xs, xs, label=\"a straight line\")"
   ]
  },
  {
   "cell_type": "markdown",
   "metadata": {},
   "source": [
    "Here we create another plot, here we pass `xs` and a function that will be applied to each value in `xs`."
   ]
  },
  {
   "cell_type": "code",
   "execution_count": null,
   "metadata": {},
   "outputs": [],
   "source": [
    "p2 = plot(xs, cos, title=\"cos cos is better than sin\", xlabel=\"time maybe?\", label=nothing)"
   ]
  },
  {
   "cell_type": "markdown",
   "metadata": {},
   "source": [
    "Now if we want to create subplots we can just generate each plot and put them together in a new figure by passing in the plot objects and a layout."
   ]
  },
  {
   "cell_type": "code",
   "execution_count": null,
   "metadata": {},
   "outputs": [],
   "source": [
    "plot(p1, p2, layout=(2, 1))"
   ]
  },
  {
   "cell_type": "markdown",
   "metadata": {},
   "source": [
    "Matrix-vector operations use `'` for the adjoint (complex conjugation and transposition), and `*` for the multiplication operations."
   ]
  },
  {
   "cell_type": "code",
   "execution_count": null,
   "metadata": {},
   "outputs": [],
   "source": [
    "A = [1 2; 3 4]"
   ]
  },
  {
   "cell_type": "code",
   "execution_count": null,
   "metadata": {},
   "outputs": [],
   "source": [
    "B = [0; 1]"
   ]
  },
  {
   "cell_type": "code",
   "execution_count": null,
   "metadata": {},
   "outputs": [],
   "source": [
    "B'"
   ]
  },
  {
   "cell_type": "code",
   "execution_count": null,
   "metadata": {},
   "outputs": [],
   "source": [
    "A*B"
   ]
  },
  {
   "cell_type": "code",
   "execution_count": null,
   "metadata": {},
   "outputs": [],
   "source": [
    "B'*A"
   ]
  },
  {
   "cell_type": "code",
   "execution_count": null,
   "metadata": {},
   "outputs": [],
   "source": [
    "B'*A*B"
   ]
  },
  {
   "cell_type": "markdown",
   "metadata": {},
   "source": [
    "There are many packages that can be loaded, and we will use some more later in this course. As one additional example, we perform singular value decomposition and eigendecomposition of our matrix."
   ]
  },
  {
   "cell_type": "code",
   "execution_count": null,
   "metadata": {},
   "outputs": [],
   "source": [
    "using LinearAlgebra"
   ]
  },
  {
   "cell_type": "code",
   "execution_count": null,
   "metadata": {},
   "outputs": [],
   "source": [
    "svd(A)"
   ]
  },
  {
   "cell_type": "code",
   "execution_count": null,
   "metadata": {},
   "outputs": [],
   "source": [
    "eigen(A)"
   ]
  },
  {
   "cell_type": "markdown",
   "metadata": {},
   "source": [
    "This was our very brief introduction to Julia.\n",
    "\n",
    "To finish off, we will show the package handler to show how to use environments and install additional packages."
   ]
  },
  {
   "cell_type": "code",
   "execution_count": null,
   "metadata": {},
   "outputs": [],
   "source": [
    "import Pkg"
   ]
  },
  {
   "cell_type": "markdown",
   "metadata": {},
   "source": [
    "Show the current environment with the packages that are installed."
   ]
  },
  {
   "cell_type": "code",
   "execution_count": null,
   "metadata": {},
   "outputs": [],
   "source": [
    "Pkg.status()"
   ]
  },
  {
   "cell_type": "markdown",
   "metadata": {},
   "source": [
    "Add additional packages to the environment, this will download and precompile the package (you can also supply a list of package names to install all at the same time) and all of their dependencies, this might take a little while."
   ]
  },
  {
   "cell_type": "code",
   "execution_count": null,
   "metadata": {},
   "outputs": [],
   "source": [
    "Pkg.add(\"ProgressBars\")"
   ]
  },
  {
   "cell_type": "markdown",
   "metadata": {},
   "source": [
    "# Remember to stop your server when you are done.\n",
    "\n",
    "If we have more than one person trying to access the lab processes at any one time, the lab computers only allow a single user to have a jupyterlab server running at a time. Therefore, when you stop working on the lab, you should stop your server, either by logging out or via the hub control panel, and then, when you want to resume your work, your server needs to be restarted again."
   ]
  },
  {
   "cell_type": "markdown",
   "metadata": {},
   "source": [
    "# Save your work\n",
    "\n",
    "These sessions are not guaranteed to keep the state of your work after you shut down the notebook, so if you have made changes you will likely want to save them locally.\n",
    "\n",
    "Test that you can do this on you work in this notebook by saving and restoring everything.\n",
    "\n",
    "To save and shut down you do\n",
    "* Save your work (File -> Save Notebook).\n",
    "* Download the file to your computer by right-clicking the file and selecting Download.\n",
    "* Shut down the jupyterlab instance (File -> Hub Control Panel, select **Stop My Server**).\n",
    "\n",
    "To upload the notebook when you resume your work you do\n",
    "* Start up a new jupyterlab instance (**Start My Server**).\n",
    "* Select the upload button in the upper left corner and find the notebook to upload, in this case overwriting the existing one.\n",
    "* Check that all your changes are still there.\n"
   ]
  }
 ],
 "metadata": {
  "kernelspec": {
   "display_name": "Julia 1.8.2",
   "language": "julia",
   "name": "julia-1.8"
  },
  "language_info": {
   "file_extension": ".jl",
   "mimetype": "application/julia",
   "name": "julia",
   "version": "1.8.2"
  }
 },
 "nbformat": 4,
 "nbformat_minor": 4
}
