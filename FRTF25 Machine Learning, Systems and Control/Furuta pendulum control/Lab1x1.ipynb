{
 "cells": [
  {
   "cell_type": "markdown",
   "metadata": {},
   "source": [
    "# Lab 1: Furuta pendulum measurements and actuation\n",
    "## Background\n",
    "In this series of 3 labs we will control the Furuta pendulum pictured below to swing up its arm and balance it in the upright position.\n",
    "\n",
    "![Furuta Pendulum](img/lab1-furuta.png)\n",
    "\n",
    "Much of machine learning concerns fitting a function to data. An artificial neural network (ANN) is for example a mapping from a an input vector $u$ to an output vector $y$, and can be represented by a (complicated) ordinary function $f:u\\to y$. In an ANN, $f$ is parameterized as a matrix of weights $W$. When the network is trained, the values of weights are adjusted to obtain $f(u;W)\\approx y$ for known data $(u,y)$. A strength of ANNs is that they are very flexible, meaning that they can approximate rather arbitrary mappings. This is also the reason that cross validation is so important to detect over-fitting of data. Particularly, the flexibity of $f$ becomes problematic if the training data is not sufficiently informative. This can be resolved by gathering additional training data. Sometimes this is expensive or even impossible. It is therefore always good to use as much prior knowledge as possible when modelling.\n",
    "\n",
    "The pendulum has a scalar (single-valued) real input $u$, that somehow relates to the angular velocity of its base, $\\dot{\\varphi}$. (The dot is convenient way to denote differentiation with respect to time, for example $\\dot{x}=dx/dt$). We will shortly take a closer look at properties of this input. The pendulum also provides two measurements: the base angle $\\varphi$ and the arm angle $\\theta$. We will take a closer look at them too.\n",
    "\n",
    "Being aspiring machine learning experts, we could now train a neural network to represent the mapping from the input $u$ to the output $y=[\\varphi~\\theta]$. This raises a number of questions:\n",
    "\n",
    "1. How shall we choose the training input u, in order to cover the feature space that we are interested to model?\n",
    "\n",
    "2. What is a good way to validate the model we obtain?\n",
    "\n",
    "3. How can we use the obtained ANN to get closer to our goal of controlling the Furuta pendulum?\n",
    "\n",
    "As we will see in this and the next lab, the Furuta pendulum has properties that enable us to restrict the search for a model to a much narrower class of mapping than ANNs provide, and this will prove useful when approaching the questions above. Incorporating knowledge of such properties into machine learning models is a recent research topic, and in order to get you on board, we will here focus on getting you familiar with \"classical\" modeling and control of dynamical systems, that is a pre-requisite for such composite models.\n",
    "\n",
    "In this first lab, the focus will lie on getting familiar with the Julia programming language, and getting started with experimenting on the physical Furuta pendulum. We will write functions for measuring angles and estimating angular velocies. Finally, we will develop a very simple model for the actuating DC motor. Lab 2 will focus on modelling and simulation, and in Lab 3 we will control the pendulum in the upright position, and also implement and energy-based conrol law that swings it up from its resting position.\n",
    "\n",
    "The labs are all quite open-ended and exploratory. It is strongly encouraged that you experiment outside the boundaries of their manuals, and that you actively seek knowledge online and by interacting with the instructors.\n",
    "\n",
    "**To pass the lab fill all cells marked \"A\" with text or code, and be ready to discuss the content of the lab in a small group during the examination session.**"
   ]
  },
  {
   "cell_type": "markdown",
   "metadata": {},
   "source": [
    "## Getting started\n",
    "First, let us load some code packages into the Julia environment:"
   ]
  },
  {
   "cell_type": "code",
   "execution_count": 1,
   "metadata": {},
   "outputs": [],
   "source": [
    "using FurutaPendulums, Plots, DelimitedFiles, ControlSystems"
   ]
  },
  {
   "cell_type": "markdown",
   "metadata": {},
   "source": [
    "The FurutaPendulums package defines an interface between Julia and the physical process. To instantiate a pendulum we do "
   ]
  },
  {
   "cell_type": "code",
   "execution_count": 2,
   "metadata": {},
   "outputs": [
    {
     "data": {
      "text/plain": [
       "FurutaPendulum()"
      ]
     },
     "execution_count": 2,
     "metadata": {},
     "output_type": "execute_result"
    }
   ],
   "source": [
    "furuta = FurutaPendulum()"
   ]
  },
  {
   "cell_type": "markdown",
   "metadata": {},
   "source": [
    "We can now send an input command to the Furuta pendulum:"
   ]
  },
  {
   "cell_type": "code",
   "execution_count": 6,
   "metadata": {},
   "outputs": [
    {
     "data": {
      "text/plain": [
       "2.0"
      ]
     },
     "execution_count": 6,
     "metadata": {},
     "output_type": "execute_result"
    }
   ],
   "source": [
    "u=2.0\n",
    "control(furuta,u)"
   ]
  },
  {
   "cell_type": "markdown",
   "metadata": {},
   "source": [
    "The pendulum should start spinning, and will stop after a while (5 seconds) due to a built in time-out. Without the timeout it would spin forever, or at least until it received a control command that stopped it.\n",
    "\n",
    "At some point during the labs you will likely also see the pendulum move fast, then suddenly stop. This is most likely due to a built-in energy threashold, that cuts actuation of the motor if the kinetic energy of the the moving parts gets too high. This mechanism is in place to protect you and the equipment. It should not pose a problem during normal operation."
   ]
  },
  {
   "cell_type": "markdown",
   "metadata": {},
   "source": [
    "Next, let us define a control signal trajectory:"
   ]
  },
  {
   "cell_type": "code",
   "execution_count": 7,
   "metadata": {},
   "outputs": [],
   "source": [
    "h=1.0 # This is the update period (often called sampling), in seconds\n",
    "last_time=periodic_wait(furuta,0.0,0.0)\n",
    "for k=1:5\n",
    "    if iseven(k)\n",
    "        u=2.5\n",
    "    else\n",
    "        u=0.0\n",
    "    end\n",
    "    control(furuta,u)\n",
    "    last_time=periodic_wait(furuta,last_time,h)\n",
    "end"
   ]
  },
  {
   "cell_type": "markdown",
   "metadata": {},
   "source": [
    "Let us digest the code block above. First we declare a period `h` that tells us for how many seconds at a time (the sampling period) the input `u` should be held constant. Then we declare a start time. To see the numeric value of this time, type:"
   ]
  },
  {
   "cell_type": "code",
   "execution_count": 6,
   "metadata": {},
   "outputs": [
    {
     "name": "stdout",
     "output_type": "stream",
     "text": [
      "periodic_wait(furuta, 0.0, 0.0) = 1.663937227338542e9\n"
     ]
    },
    {
     "data": {
      "text/plain": [
       "1.663937227338542e9"
      ]
     },
     "execution_count": 6,
     "metadata": {},
     "output_type": "execute_result"
    }
   ],
   "source": [
    "@show periodic_wait(furuta,0.0,0.0)"
   ]
  },
  {
   "cell_type": "markdown",
   "metadata": {},
   "source": [
    "The large number is the number of seconds since the beginning of 1970, also known as the UNIX epoch. Subsequent calls of ```periodic_wait``` will tell the function to wait on the ```furuta``` object until ```h```seconds has passed since the time stored in ```last_time```.\n",
    "\n",
    "Then there is a ```for``` loop that runs for each integer value in the range ```k=1:5```"
   ]
  },
  {
   "cell_type": "markdown",
   "metadata": {},
   "source": [
    "Q: What happens in the body of the `for` loop? (Type your answer in the answer cell below.)"
   ]
  },
  {
   "cell_type": "markdown",
   "metadata": {},
   "source": [
    "A: (Write your answer here)"
   ]
  },
  {
   "cell_type": "markdown",
   "metadata": {
    "tags": []
   },
   "source": [
    "Q: Now write and execute an experiment of 3 s duration, where the input signal is $u(t)=2.5 \\sin(3.0t)$ and the sampling period is 0.01 s."
   ]
  },
  {
   "cell_type": "code",
   "execution_count": 7,
   "metadata": {},
   "outputs": [],
   "source": [
    "#A:(Write your code in this cell)"
   ]
  },
  {
   "cell_type": "markdown",
   "metadata": {},
   "source": [
    "## Angle measurements\n",
    "In the experiments above, we can see that the pendulum device is moving. But to get a model, we will need some quantified measurements. The code below actuates the device and meausures the base angle $\\varphi$. Take a close look and make sure you understand what it does."
   ]
  },
  {
   "cell_type": "code",
   "execution_count": 11,
   "metadata": {},
   "outputs": [
    {
     "data": {
      "text/plain": [
       "-0.00015259021896696368"
      ]
     },
     "execution_count": 11,
     "metadata": {},
     "output_type": "execute_result"
    }
   ],
   "source": [
    "h=0.01 # 10 ms\n",
    "start_time=last_time=periodic_wait(furuta,0.0,0.0)\n",
    "\n",
    "φ_raws=Float64[] # Array for storing measurements\n",
    "ts=Float64[]\n",
    "\n",
    "u=2.5\n",
    "\n",
    "for k=1:round(5/h)\n",
    "    control(furuta,u)\n",
    "    last_time=periodic_wait(furuta,last_time,h)\n",
    "    φ_raw=read(furuta.arm_angle)\n",
    "    φ_raws=[φ_raws; φ_raw]\n",
    "    ts=[ts; last_time-start_time] \n",
    "end\n",
    "control(furuta,0.0) # It stops after 5 seconds, but we might as well stop it when we are done"
   ]
  },
  {
   "cell_type": "markdown",
   "metadata": {},
   "source": [
    "The measurement of $\\varphi$ is obtained from a rotary encoder, providing a counter that increments (or decrements, depending on the direction of rotation) its value at evenly spaced angular intervals. The resolution of a rotary encoder is the number of such increments per full revolution. Let us plot the base angle as a function of time:"
   ]
  },
  {
   "cell_type": "code",
   "execution_count": 13,
   "metadata": {},
   "outputs": [
    {
     "data": {
      "image/png": "[encoded data removed]",
      "image/svg+xml": [
       "<?xml version=\"1.0\" encoding=\"utf-8\"?>\n",
       "<svg xmlns=\"http://www.w3.org/2000/svg\" xmlns:xlink=\"http://www.w3.org/1999/xlink\" width=\"600\" height=\"400\" viewBox=\"0 0 2400 1600\">\n",
       "<defs>\n",
       "  <clipPath id=\"clip500\">\n",
       "    <rect x=\"0\" y=\"0\" width=\"2400\" height=\"1600\"/>\n",
       "  </clipPath>\n",
       "</defs>\n",
       "<path clip-path=\"url(#clip500)\" d=\"\n",
       "M0 1600 L2400 1600 L2400 0 L0 0  Z\n",
       "  \" fill=\"#ffffff\" fill-rule=\"evenodd\" fill-opacity=\"1\"/>\n",
       "<defs>\n",
       "  <clipPath id=\"clip501\">\n",
       "    <rect x=\"480\" y=\"0\" width=\"1681\" height=\"1600\"/>\n",
       "  </clipPath>\n",
       "</defs>\n",
       "<path clip-path=\"url(#clip500)\" d=\"\n",
       "M112.177 1486.45 L2352.76 1486.45 L2352.76 47.2441 L112.177 47.2441  Z\n",
       "  \" fill=\"#ffffff\" fill-rule=\"evenodd\" fill-opacity=\"1\"/>\n",
       "<defs>\n",
       "  <clipPath id=\"clip502\">\n",
       "    <rect x=\"112\" y=\"47\" width=\"2242\" height=\"1440\"/>\n",
       "  </clipPath>\n",
       "</defs>\n",
       "<polyline clip-path=\"url(#clip502)\" style=\"stroke:#000000; stroke-linecap:butt; stroke-linejoin:round; stroke-width:2; stroke-opacity:0.1; fill:none\" points=\"\n",
       "  513.37,1486.45 513.37,47.2441 \n",
       "  \"/>\n",
       "<polyline clip-path=\"url(#clip502)\" style=\"stroke:#000000; stroke-linecap:butt; stroke-linejoin:round; stroke-width:2; stroke-opacity:0.1; fill:none\" points=\"\n",
       "  931.213,1486.45 931.213,47.2441 \n",
       "  \"/>\n",
       "<polyline clip-path=\"url(#clip502)\" style=\"stroke:#000000; stroke-linecap:butt; stroke-linejoin:round; stroke-width:2; stroke-opacity:0.1; fill:none\" points=\"\n",
       "  1349.06,1486.45 1349.06,47.2441 \n",
       "  \"/>\n",
       "<polyline clip-path=\"url(#clip502)\" style=\"stroke:#000000; stroke-linecap:butt; stroke-linejoin:round; stroke-width:2; stroke-opacity:0.1; fill:none\" points=\"\n",
       "  1766.9,1486.45 1766.9,47.2441 \n",
       "  \"/>\n",
       "<polyline clip-path=\"url(#clip502)\" style=\"stroke:#000000; stroke-linecap:butt; stroke-linejoin:round; stroke-width:2; stroke-opacity:0.1; fill:none\" points=\"\n",
       "  2184.74,1486.45 2184.74,47.2441 \n",
       "  \"/>\n",
       "<polyline clip-path=\"url(#clip500)\" style=\"stroke:#000000; stroke-linecap:butt; stroke-linejoin:round; stroke-width:4; stroke-opacity:1; fill:none\" points=\"\n",
       "  112.177,1486.45 2352.76,1486.45 \n",
       "  \"/>\n",
       "<polyline clip-path=\"url(#clip500)\" style=\"stroke:#000000; stroke-linecap:butt; stroke-linejoin:round; stroke-width:4; stroke-opacity:1; fill:none\" points=\"\n",
       "  513.37,1486.45 513.37,1467.55 \n",
       "  \"/>\n",
       "<polyline clip-path=\"url(#clip500)\" style=\"stroke:#000000; stroke-linecap:butt; stroke-linejoin:round; stroke-width:4; stroke-opacity:1; fill:none\" points=\"\n",
       "  931.213,1486.45 931.213,1467.55 \n",
       "  \"/>\n",
       "<polyline clip-path=\"url(#clip500)\" style=\"stroke:#000000; stroke-linecap:butt; stroke-linejoin:round; stroke-width:4; stroke-opacity:1; fill:none\" points=\"\n",
       "  1349.06,1486.45 1349.06,1467.55 \n",
       "  \"/>\n",
       "<polyline clip-path=\"url(#clip500)\" style=\"stroke:#000000; stroke-linecap:butt; stroke-linejoin:round; stroke-width:4; stroke-opacity:1; fill:none\" points=\"\n",
       "  1766.9,1486.45 1766.9,1467.55 \n",
       "  \"/>\n",
       "<polyline clip-path=\"url(#clip500)\" style=\"stroke:#000000; stroke-linecap:butt; stroke-linejoin:round; stroke-width:4; stroke-opacity:1; fill:none\" points=\"\n",
       "  2184.74,1486.45 2184.74,1467.55 \n",
       "  \"/>\n",
       "<path clip-path=\"url(#clip500)\" d=\"M503.752 1544.91 L511.39 1544.91 L511.39 1518.55 L503.08 1520.21 L503.08 1515.95 L511.344 1514.29 L516.02 1514.29 L516.02 1544.91 L523.659 1544.91 L523.659 1548.85 L503.752 1548.85 L503.752 1544.91 Z\" fill=\"#000000\" fill-rule=\"evenodd\" fill-opacity=\"1\" /><path clip-path=\"url(#clip500)\" d=\"M925.865 1544.91 L942.185 1544.91 L942.185 1548.85 L920.241 1548.85 L920.241 1544.91 Q922.903 1542.16 927.486 1537.53 Q932.092 1532.88 933.273 1531.53 Q935.518 1529.01 936.398 1527.27 Q937.301 1525.51 937.301 1523.82 Q937.301 1521.07 935.356 1519.33 Q933.435 1517.6 930.333 1517.6 Q928.134 1517.6 925.68 1518.36 Q923.25 1519.13 920.472 1520.68 L920.472 1515.95 Q923.296 1514.82 925.75 1514.24 Q928.203 1513.66 930.24 1513.66 Q935.611 1513.66 938.805 1516.35 Q942 1519.03 942 1523.52 Q942 1525.65 941.189 1527.57 Q940.402 1529.47 938.296 1532.07 Q937.717 1532.74 934.615 1535.95 Q931.514 1539.15 925.865 1544.91 Z\" fill=\"#000000\" fill-rule=\"evenodd\" fill-opacity=\"1\" /><path clip-path=\"url(#clip500)\" d=\"M1353.3 1530.21 Q1356.66 1530.93 1358.53 1533.2 Q1360.43 1535.47 1360.43 1538.8 Q1360.43 1543.92 1356.91 1546.72 Q1353.4 1549.52 1346.91 1549.52 Q1344.74 1549.52 1342.42 1549.08 Q1340.13 1548.66 1337.68 1547.81 L1337.68 1543.29 Q1339.62 1544.43 1341.94 1545.01 Q1344.25 1545.58 1346.78 1545.58 Q1351.17 1545.58 1353.47 1543.85 Q1355.78 1542.11 1355.78 1538.8 Q1355.78 1535.75 1353.63 1534.03 Q1351.5 1532.3 1347.68 1532.3 L1343.65 1532.3 L1343.65 1528.45 L1347.86 1528.45 Q1351.31 1528.45 1353.14 1527.09 Q1354.97 1525.7 1354.97 1523.11 Q1354.97 1520.45 1353.07 1519.03 Q1351.2 1517.6 1347.68 1517.6 Q1345.76 1517.6 1343.56 1518.01 Q1341.36 1518.43 1338.72 1519.31 L1338.72 1515.14 Q1341.38 1514.4 1343.7 1514.03 Q1346.03 1513.66 1348.1 1513.66 Q1353.42 1513.66 1356.52 1516.09 Q1359.62 1518.5 1359.62 1522.62 Q1359.62 1525.49 1357.98 1527.48 Q1356.34 1529.45 1353.3 1530.21 Z\" fill=\"#000000\" fill-rule=\"evenodd\" fill-opacity=\"1\" /><path clip-path=\"url(#clip500)\" d=\"M1769.91 1518.36 L1758.1 1536.81 L1769.91 1536.81 L1769.91 1518.36 M1768.68 1514.29 L1774.56 1514.29 L1774.56 1536.81 L1779.49 1536.81 L1779.49 1540.7 L1774.56 1540.7 L1774.56 1548.85 L1769.91 1548.85 L1769.91 1540.7 L1754.31 1540.7 L1754.31 1536.19 L1768.68 1514.29 Z\" fill=\"#000000\" fill-rule=\"evenodd\" fill-opacity=\"1\" /><path clip-path=\"url(#clip500)\" d=\"M2175.02 1514.29 L2193.38 1514.29 L2193.38 1518.22 L2179.3 1518.22 L2179.3 1526.7 Q2180.32 1526.35 2181.34 1526.19 Q2182.36 1526 2183.38 1526 Q2189.16 1526 2192.54 1529.17 Q2195.92 1532.34 2195.92 1537.76 Q2195.92 1543.34 2192.45 1546.44 Q2188.98 1549.52 2182.66 1549.52 Q2180.48 1549.52 2178.21 1549.15 Q2175.97 1548.78 2173.56 1548.04 L2173.56 1543.34 Q2175.64 1544.47 2177.87 1545.03 Q2180.09 1545.58 2182.57 1545.58 Q2186.57 1545.58 2188.91 1543.48 Q2191.25 1541.37 2191.25 1537.76 Q2191.25 1534.15 2188.91 1532.04 Q2186.57 1529.94 2182.57 1529.94 Q2180.69 1529.94 2178.82 1530.35 Q2176.96 1530.77 2175.02 1531.65 L2175.02 1514.29 Z\" fill=\"#000000\" fill-rule=\"evenodd\" fill-opacity=\"1\" /><polyline clip-path=\"url(#clip502)\" style=\"stroke:#000000; stroke-linecap:butt; stroke-linejoin:round; stroke-width:2; stroke-opacity:0.1; fill:none\" points=\"\n",
       "  112.177,1445.8 2352.76,1445.8 \n",
       "  \"/>\n",
       "<polyline clip-path=\"url(#clip502)\" style=\"stroke:#000000; stroke-linecap:butt; stroke-linejoin:round; stroke-width:2; stroke-opacity:0.1; fill:none\" points=\"\n",
       "  112.177,1229.06 2352.76,1229.06 \n",
       "  \"/>\n",
       "<polyline clip-path=\"url(#clip502)\" style=\"stroke:#000000; stroke-linecap:butt; stroke-linejoin:round; stroke-width:2; stroke-opacity:0.1; fill:none\" points=\"\n",
       "  112.177,1012.33 2352.76,1012.33 \n",
       "  \"/>\n",
       "<polyline clip-path=\"url(#clip502)\" style=\"stroke:#000000; stroke-linecap:butt; stroke-linejoin:round; stroke-width:2; stroke-opacity:0.1; fill:none\" points=\"\n",
       "  112.177,795.592 2352.76,795.592 \n",
       "  \"/>\n",
       "<polyline clip-path=\"url(#clip502)\" style=\"stroke:#000000; stroke-linecap:butt; stroke-linejoin:round; stroke-width:2; stroke-opacity:0.1; fill:none\" points=\"\n",
       "  112.177,578.856 2352.76,578.856 \n",
       "  \"/>\n",
       "<polyline clip-path=\"url(#clip502)\" style=\"stroke:#000000; stroke-linecap:butt; stroke-linejoin:round; stroke-width:2; stroke-opacity:0.1; fill:none\" points=\"\n",
       "  112.177,362.121 2352.76,362.121 \n",
       "  \"/>\n",
       "<polyline clip-path=\"url(#clip502)\" style=\"stroke:#000000; stroke-linecap:butt; stroke-linejoin:round; stroke-width:2; stroke-opacity:0.1; fill:none\" points=\"\n",
       "  112.177,145.385 2352.76,145.385 \n",
       "  \"/>\n",
       "<polyline clip-path=\"url(#clip500)\" style=\"stroke:#000000; stroke-linecap:butt; stroke-linejoin:round; stroke-width:4; stroke-opacity:1; fill:none\" points=\"\n",
       "  112.177,1486.45 112.177,47.2441 \n",
       "  \"/>\n",
       "<polyline clip-path=\"url(#clip500)\" style=\"stroke:#000000; stroke-linecap:butt; stroke-linejoin:round; stroke-width:4; stroke-opacity:1; fill:none\" points=\"\n",
       "  112.177,1445.8 131.075,1445.8 \n",
       "  \"/>\n",
       "<polyline clip-path=\"url(#clip500)\" style=\"stroke:#000000; stroke-linecap:butt; stroke-linejoin:round; stroke-width:4; stroke-opacity:1; fill:none\" points=\"\n",
       "  112.177,1229.06 131.075,1229.06 \n",
       "  \"/>\n",
       "<polyline clip-path=\"url(#clip500)\" style=\"stroke:#000000; stroke-linecap:butt; stroke-linejoin:round; stroke-width:4; stroke-opacity:1; fill:none\" points=\"\n",
       "  112.177,1012.33 131.075,1012.33 \n",
       "  \"/>\n",
       "<polyline clip-path=\"url(#clip500)\" style=\"stroke:#000000; stroke-linecap:butt; stroke-linejoin:round; stroke-width:4; stroke-opacity:1; fill:none\" points=\"\n",
       "  112.177,795.592 131.075,795.592 \n",
       "  \"/>\n",
       "<polyline clip-path=\"url(#clip500)\" style=\"stroke:#000000; stroke-linecap:butt; stroke-linejoin:round; stroke-width:4; stroke-opacity:1; fill:none\" points=\"\n",
       "  112.177,578.856 131.075,578.856 \n",
       "  \"/>\n",
       "<polyline clip-path=\"url(#clip500)\" style=\"stroke:#000000; stroke-linecap:butt; stroke-linejoin:round; stroke-width:4; stroke-opacity:1; fill:none\" points=\"\n",
       "  112.177,362.121 131.075,362.121 \n",
       "  \"/>\n",
       "<polyline clip-path=\"url(#clip500)\" style=\"stroke:#000000; stroke-linecap:butt; stroke-linejoin:round; stroke-width:4; stroke-opacity:1; fill:none\" points=\"\n",
       "  112.177,145.385 131.075,145.385 \n",
       "  \"/>\n",
       "<path clip-path=\"url(#clip500)\" d=\"M64.2328 1431.6 Q60.6217 1431.6 58.793 1435.16 Q56.9875 1438.7 56.9875 1445.83 Q56.9875 1452.94 58.793 1456.5 Q60.6217 1460.05 64.2328 1460.05 Q67.867 1460.05 69.6726 1456.5 Q71.5013 1452.94 71.5013 1445.83 Q71.5013 1438.7 69.6726 1435.16 Q67.867 1431.6 64.2328 1431.6 M64.2328 1427.89 Q70.0429 1427.89 73.0985 1432.5 Q76.1772 1437.08 76.1772 1445.83 Q76.1772 1454.56 73.0985 1459.17 Q70.0429 1463.75 64.2328 1463.75 Q58.4226 1463.75 55.344 1459.17 Q52.2884 1454.56 52.2884 1445.83 Q52.2884 1437.08 55.344 1432.5 Q58.4226 1427.89 64.2328 1427.89 Z\" fill=\"#000000\" fill-rule=\"evenodd\" fill-opacity=\"1\" /><path clip-path=\"url(#clip500)\" d=\"M56.2699 1242.41 L63.9087 1242.41 L63.9087 1216.04 L55.5986 1217.71 L55.5986 1213.45 L63.8624 1211.78 L68.5383 1211.78 L68.5383 1242.41 L76.1772 1242.41 L76.1772 1246.34 L56.2699 1246.34 L56.2699 1242.41 Z\" fill=\"#000000\" fill-rule=\"evenodd\" fill-opacity=\"1\" /><path clip-path=\"url(#clip500)\" d=\"M59.8578 1025.67 L76.1772 1025.67 L76.1772 1029.61 L54.2328 1029.61 L54.2328 1025.67 Q56.8949 1022.92 61.4782 1018.29 Q66.0846 1013.64 67.2652 1012.29 Q69.5105 1009.77 70.3902 1008.03 Q71.2929 1006.27 71.2929 1004.58 Q71.2929 1001.83 69.3485 1000.09 Q67.4272 998.358 64.3254 998.358 Q62.1263 998.358 59.6726 999.122 Q57.2421 999.886 54.4643 1001.44 L54.4643 996.714 Q57.2884 995.58 59.7421 995.001 Q62.1958 994.423 64.2328 994.423 Q69.6031 994.423 72.7976 997.108 Q75.992 999.793 75.992 1004.28 Q75.992 1006.41 75.1818 1008.33 Q74.3948 1010.23 72.2883 1012.83 Q71.7096 1013.5 68.6078 1016.71 Q65.5059 1019.91 59.8578 1025.67 Z\" fill=\"#000000\" fill-rule=\"evenodd\" fill-opacity=\"1\" /><path clip-path=\"url(#clip500)\" d=\"M69.0476 794.238 Q72.404 794.955 74.279 797.224 Q76.1772 799.492 76.1772 802.826 Q76.1772 807.941 72.6587 810.742 Q69.1402 813.543 62.6587 813.543 Q60.4828 813.543 58.168 813.103 Q55.8764 812.687 53.4227 811.83 L53.4227 807.316 Q55.3671 808.451 57.6819 809.029 Q59.9967 809.608 62.5198 809.608 Q66.918 809.608 69.2096 807.872 Q71.5244 806.136 71.5244 802.826 Q71.5244 799.77 69.3717 798.057 Q67.242 796.321 63.4226 796.321 L59.3949 796.321 L59.3949 792.479 L63.6078 792.479 Q67.0569 792.479 68.8855 791.113 Q70.7142 789.724 70.7142 787.131 Q70.7142 784.469 68.8161 783.057 Q66.9411 781.622 63.4226 781.622 Q61.5013 781.622 59.3023 782.039 Q57.1032 782.456 54.4643 783.335 L54.4643 779.168 Q57.1264 778.428 59.4412 778.057 Q61.7791 777.687 63.8393 777.687 Q69.1633 777.687 72.2652 780.118 Q75.367 782.525 75.367 786.645 Q75.367 789.516 73.7235 791.506 Q72.08 793.474 69.0476 794.238 Z\" fill=\"#000000\" fill-rule=\"evenodd\" fill-opacity=\"1\" /><path clip-path=\"url(#clip500)\" d=\"M66.5939 565.65 L54.7884 584.099 L66.5939 584.099 L66.5939 565.65 M65.367 561.576 L71.2466 561.576 L71.2466 584.099 L76.1772 584.099 L76.1772 587.988 L71.2466 587.988 L71.2466 596.136 L66.5939 596.136 L66.5939 587.988 L50.9921 587.988 L50.9921 583.474 L65.367 561.576 Z\" fill=\"#000000\" fill-rule=\"evenodd\" fill-opacity=\"1\" /><path clip-path=\"url(#clip500)\" d=\"M55.2745 344.841 L73.6309 344.841 L73.6309 348.776 L59.5569 348.776 L59.5569 357.248 Q60.5754 356.901 61.5939 356.739 Q62.6124 356.554 63.6309 356.554 Q69.418 356.554 72.7976 359.725 Q76.1772 362.896 76.1772 368.313 Q76.1772 373.892 72.705 376.993 Q69.2328 380.072 62.9134 380.072 Q60.7374 380.072 58.4689 379.702 Q56.2236 379.331 53.8162 378.591 L53.8162 373.892 Q55.8995 375.026 58.1217 375.581 Q60.3439 376.137 62.8208 376.137 Q66.8254 376.137 69.1633 374.03 Q71.5013 371.924 71.5013 368.313 Q71.5013 364.702 69.1633 362.595 Q66.8254 360.489 62.8208 360.489 Q60.9458 360.489 59.0708 360.906 Q57.2189 361.322 55.2745 362.202 L55.2745 344.841 Z\" fill=\"#000000\" fill-rule=\"evenodd\" fill-opacity=\"1\" /><path clip-path=\"url(#clip500)\" d=\"M64.6495 143.522 Q61.5013 143.522 59.6495 145.675 Q57.8208 147.827 57.8208 151.577 Q57.8208 155.304 59.6495 157.48 Q61.5013 159.633 64.6495 159.633 Q67.7976 159.633 69.6263 157.48 Q71.4781 155.304 71.4781 151.577 Q71.4781 147.827 69.6263 145.675 Q67.7976 143.522 64.6495 143.522 M73.9318 128.869 L73.9318 133.128 Q72.1726 132.295 70.367 131.855 Q68.5846 131.415 66.8254 131.415 Q62.1958 131.415 59.7421 134.54 Q57.3115 137.665 56.9643 143.985 Q58.33 141.971 60.3902 140.906 Q62.4504 139.818 64.9272 139.818 Q70.1355 139.818 73.1448 142.989 Q76.1772 146.138 76.1772 151.577 Q76.1772 156.901 73.029 160.119 Q69.8809 163.337 64.6495 163.337 Q58.6541 163.337 55.4828 158.753 Q52.3116 154.147 52.3116 145.42 Q52.3116 137.226 56.2004 132.364 Q60.0893 127.48 66.6402 127.48 Q68.3994 127.48 70.1818 127.827 Q71.9874 128.175 73.9318 128.869 Z\" fill=\"#000000\" fill-rule=\"evenodd\" fill-opacity=\"1\" /><polyline clip-path=\"url(#clip502)\" style=\"stroke:#009af9; stroke-linecap:butt; stroke-linejoin:round; stroke-width:4; stroke-opacity:1; fill:none\" points=\"\n",
       "  175.59,1442.12 179.825,1433 184.045,1403.47 188.279,1364.64 192.509,1321.35 196.719,1275.7 200.949,1227.91 205.173,1179.06 209.424,1130.77 213.631,1087.4 \n",
       "  217.844,1049.36 222.065,1018.56 226.286,996.495 230.503,983.384 234.712,979.83 238.923,985.732 243.137,1001.02 247.374,1025.11 251.62,1057.61 255.852,1096.98 \n",
       "  260.063,1140.64 264.277,1187.66 268.49,1234.19 272.71,1279.07 276.942,1321.19 281.173,1358.71 285.415,1394.18 289.658,1427.08 293.89,98.0541 298.124,131.28 \n",
       "  302.381,166.999 306.612,204.733 310.856,245.855 315.078,289.719 319.301,334.727 323.544,379.921 327.779,422.497 332.02,460.335 336.251,491.109 340.485,512.698 \n",
       "  344.726,525.187 348.967,527.597 353.21,519.867 357.445,503.286 361.686,477.229 365.928,443.816 370.156,404.731 374.398,361.864 378.641,317.605 382.88,274.073 \n",
       "  387.114,233.159 391.355,195.279 395.587,161.679 399.821,130.552 404.063,101.711 408.306,1435.89 412.549,1408.29 416.783,1380.18 421.025,1349.95 425.256,1317.86 \n",
       "  429.496,1282.93 433.716,1245.78 437.936,1207.55 442.178,1168.69 446.411,1131.37 450.653,1097.58 454.895,1069.08 459.137,1046.95 463.379,1032.67 467.623,1026.52 \n",
       "  471.867,1028.58 476.103,1039.18 480.335,1057.52 484.577,1082.35 488.82,1113.34 493.062,1148.35 497.28,1185.15 501.522,1222.72 505.755,1258.31 509.996,1291.27 \n",
       "  514.238,1320.69 518.481,1345.98 522.723,1368.83 526.952,1388.1 531.195,1406.84 535.43,1423.44 539.672,1439.77 543.915,94.5009 548.157,111.851 552.399,130.719 \n",
       "  556.643,151.082 560.876,173.897 565.11,199.559 569.351,228.151 573.587,259.174 577.821,292.691 582.063,327.495 586.307,362.196 590.539,394.757 594.781,424.471 \n",
       "  599.022,448.616 603.264,465.904 607.507,476.107 611.749,477.395 615.992,471.348 620.225,457.073 624.466,436.211 628.72,409.51 632.946,378.612 637.187,345.282 \n",
       "  641.431,311.641 645.646,279.454 649.863,249.72 654.092,223.06 658.308,200.203 662.497,180.921 666.717,163.3 670.935,147.882 675.171,135.435 679.402,125.004 \n",
       "  683.636,115.737 687.89,108.693 692.107,102.459 696.338,96.9943 700.569,92.3191 704.804,87.9763 709.04,1445.72 713.285,1442.1 717.542,1438.8 721.761,1435.06 \n",
       "  725.988,1431.13 730.216,1427.49 734.444,1423.25 738.661,1418.06 742.903,1412.57 747.147,1405.8 751.401,1397.63 755.629,1389.09 759.857,1378.33 764.1,1365.84 \n",
       "  768.342,1351.59 772.584,1334.61 776.841,1315.31 781.062,1293.09 785.29,1268.41 789.517,1241.73 793.744,1212.99 797.978,1184.19 802.219,1155.58 806.462,1128.75 \n",
       "  810.718,1105.58 814.939,1086.99 819.151,1074.1 823.379,1067.64 827.606,1067.7 831.848,1074.08 836.09,1087.09 840.316,1105.15 844.57,1127.96 848.797,1154.04 \n",
       "  853.024,1181.64 857.241,1209.58 861.465,1236.2 865.706,1261.09 869.931,1282.73 874.175,1300.7 878.415,1316.03 882.641,1327.52 886.868,1336.19 891.096,1342.3 \n",
       "  895.328,1344.88 899.569,1345.35 903.812,1343.15 908.067,1337.54 912.288,1328.13 916.516,1315.76 920.745,1300.62 924.993,1282.64 929.196,1261.9 933.433,1238.84 \n",
       "  937.651,1214.38 941.887,1188.78 946.093,1163.77 950.312,1140.12 954.54,1118.76 958.767,1101.78 963,1089.4 967.242,1082.31 971.484,1081.46 975.74,1086.24 \n",
       "  979.96,1096.71 984.192,1112.07 988.42,1131.5 992.659,1154.06 996.901,1178.29 1001.14,1203.06 1005.36,1227.2 1009.6,1248.9 1013.83,1268.66 1018.05,1285.32 \n",
       "  1022.28,1298.56 1026.51,1309.2 1030.75,1315.89 1035,1319.65 1039.25,1320.19 1043.48,1317.65 1047.71,1312.42 1051.93,1303.73 1056.16,1292.06 1060.41,1277.41 \n",
       "  1064.63,1259.76 1068.86,1239.67 1073.1,1217.77 1077.32,1194.98 1081.54,1171.95 1085.77,1149.91 1089.99,1130.08 1094.22,1113.67 1098.46,1101.18 1102.7,1093.82 \n",
       "  1106.95,1091.41 1111.19,1094.43 1115.42,1102.45 1119.64,1115.1 1123.88,1131.72 1128.13,1151.69 1132.37,1173.22 1136.62,1195.39 1140.84,1217.44 1145.07,1237.51 \n",
       "  1149.3,1255.9 1153.51,1271.36 1157.74,1283.14 1161.98,1292.64 1166.25,1298.14 1170.47,1300.82 1174.7,1299.81 1178.93,1295.82 1183.16,1288.9 1187.39,1278.82 \n",
       "  1191.63,1265.98 1195.87,1250.31 1200.12,1232.4 1204.35,1213.18 1208.58,1192.9 1212.8,1172.74 1217.04,1153.73 1221.26,1136.25 1225.48,1122.08 1229.72,1111.53 \n",
       "  1233.97,1105.13 1238.21,1103.67 1242.46,1106.42 1246.71,1113.69 1250.95,1125.3 1255.19,1140.08 1259.42,1157.12 1263.65,1176 1267.89,1195.04 1272.14,1214.28 \n",
       "  1276.38,1231.59 1280.62,1246.61 1284.87,1259.95 1289.11,1269.41 1293.34,1276.49 1297.58,1280.09 1301.82,1280.32 1306.06,1277.93 1310.31,1272.34 1314.55,1264.13 \n",
       "  1318.77,1253.24 1323,1239.84 1327.24,1225 1331.49,1208.38 1335.73,1190.99 1339.97,1174.24 1344.22,1158.07 1348.45,1143.63 1352.71,1131.62 1356.95,1122.44 \n",
       "  1361.19,1117.41 1365.41,1116.14 1369.65,1118.53 1373.9,1124.91 1378.13,1134.45 1382.37,1146.91 1386.61,1161.56 1390.87,1177.23 1395.11,1193.42 1399.36,1209 \n",
       "  1403.58,1223.34 1407.81,1236.33 1412.05,1246.38 1416.29,1254.88 1420.53,1260.35 1424.78,1262.05 1429,1261.84 1433.22,1259.04 1437.45,1253.84 1441.7,1245.68 \n",
       "  1445.94,1235.74 1450.2,1224.23 1454.44,1211.47 1458.68,1197.37 1462.92,1183.61 1467.13,1169.6 1471.36,1156.97 1475.6,1146.06 1479.81,1137.09 1484.04,1131.14 \n",
       "  1488.27,1128.11 1492.51,1128.48 1496.75,1131.99 1500.98,1138.39 1505.22,1147.35 1509.45,1158.38 1513.68,1170.52 1517.91,1184.05 1522.14,1196.89 1526.38,1209.65 \n",
       "  1530.61,1221.28 1534.85,1230.88 1539.09,1238.57 1543.34,1244.18 1547.58,1247.36 1551.82,1248.61 1556.07,1246.88 1560.3,1243.58 1564.54,1238.11 1568.78,1230.74 \n",
       "  1573.02,1222.03 1577.27,1211.87 1581.51,1200.79 1585.75,1189.57 1589.98,1178.14 1594.23,1167.32 1598.47,1157.82 1602.71,1149.93 1606.95,1144.25 1611.2,1140.83 \n",
       "  1615.43,1139.99 1619.67,1141.62 1623.91,1145.81 1628.16,1152.07 1632.4,1160.19 1636.64,1169.27 1640.89,1179.54 1645.12,1189.91 1649.36,1199.84 1653.59,1209.85 \n",
       "  1657.82,1217.85 1662.06,1225.06 1666.3,1230.18 1670.55,1233.52 1674.78,1235 1679.01,1234.41 1683.25,1232.15 1687.5,1228.1 1691.73,1221.78 1695.94,1214.59 \n",
       "  1700.18,1206.05 1704.42,1196.87 1708.64,1187.72 1712.87,1178.42 1717.08,1169.54 1721.32,1161.87 1725.57,1155.43 1729.81,1150.82 1734.06,1148.06 1738.29,1147.37 \n",
       "  1742.51,1148.99 1746.74,1152.32 1750.97,1157.57 1755.22,1164.49 1759.47,1172.16 1763.72,1180.91 1767.94,1189.68 1772.17,1198.4 1776.4,1206.59 1780.63,1213.78 \n",
       "  1784.87,1219.89 1789.11,1224.48 1793.35,1227.16 1797.59,1228.51 1801.83,1227.79 1806.07,1225.31 1810.31,1221.57 1814.56,1216.13 1818.8,1209.63 1823.04,1202.02 \n",
       "  1827.28,1193.87 1831.52,1185.48 1835.76,1177.23 1840,1169.23 1844.25,1162.6 1848.49,1157.08 1852.73,1153.48 1856.99,1151.42 1861.21,1151.42 1865.45,1153.67 \n",
       "  1869.69,1157.18 1873.94,1162.44 1878.18,1169.27 1882.41,1176.86 1886.65,1184.73 1890.9,1192.98 1895.14,1200.42 1899.38,1207.84 1903.62,1214.01 1907.86,1218.83 \n",
       "  1912.1,1222.53 1916.34,1224.52 1920.58,1224.94 1924.79,1223.61 1929.02,1220.99 1933.25,1216.81 1937.48,1211.5 1941.7,1204.95 1945.93,1197.99 1950.16,1189.99 \n",
       "  1954.4,1182.67 1958.64,1175.26 1962.89,1168.57 1967.13,1163 1971.37,1158.8 1975.6,1156.26 1979.84,1155.31 1984.08,1155.93 1988.32,1158.36 1992.56,1162.54 \n",
       "  1996.8,1167.46 2001.05,1173.84 2005.28,1180.62 2009.52,1188.2 2013.76,1195.25 2018.01,1201.77 2022.25,1207.94 2026.49,1213.26 2030.73,1216.79 2034.97,1219.33 \n",
       "  2039.21,1220.35 2043.45,1219.35 2047.69,1217.31 2051.94,1213.51 2056.18,1209.08 2060.41,1203.29 2064.65,1196.62 2068.9,1189.95 2073.14,1183.11 2077.37,1176.4 \n",
       "  2081.62,1170.46 2085.86,1165.41 2090.1,1161.5 2094.32,1158.97 2098.56,1157.99 2102.8,1158.74 2107.06,1160.67 2111.27,1164.04 2115.52,1168.86 2119.73,1174.22 \n",
       "  2123.97,1180.7 2128.22,1187.31 2132.45,1193.71 2136.69,1200.07 2140.93,1205.43 2145.17,1210.08 2149.41,1213.64 2153.65,1215.55 2157.89,1216.3 2162.14,1215.61 \n",
       "  2166.38,1213.53 2170.63,1210.64 2174.86,1206.2 2179.1,1201.15 2183.34,1195.68 2187.58,1189.57 2191.83,1183.73 2196.07,1177.92 2200.28,1172.43 2204.53,1168.09 \n",
       "  2208.75,1164.49 2212.99,1162.42 2217.23,1161.65 2221.48,1162.15 2225.72,1164.14 2229.96,1167.32 2234.2,1171.62 2238.43,1177 2242.68,1182.45 2246.92,1188.26 \n",
       "  2251.16,1193.87 2255.41,1198.94 2259.65,1203.47 2263.89,1206.57 2268.13,1209.42 2272.37,1210.87 2276.62,1211.1 2280.88,1210.23 2285.12,1208.4 2289.34,1205.39 \n",
       "  \n",
       "  \"/>\n",
       "<path clip-path=\"url(#clip500)\" d=\"\n",
       "M1976.69 198.898 L2278.07 198.898 L2278.07 95.2176 L1976.69 95.2176  Z\n",
       "  \" fill=\"#ffffff\" fill-rule=\"evenodd\" fill-opacity=\"1\"/>\n",
       "<polyline clip-path=\"url(#clip500)\" style=\"stroke:#000000; stroke-linecap:butt; stroke-linejoin:round; stroke-width:4; stroke-opacity:1; fill:none\" points=\"\n",
       "  1976.69,198.898 2278.07,198.898 2278.07,95.2176 1976.69,95.2176 1976.69,198.898 \n",
       "  \"/>\n",
       "<polyline clip-path=\"url(#clip500)\" style=\"stroke:#009af9; stroke-linecap:butt; stroke-linejoin:round; stroke-width:4; stroke-opacity:1; fill:none\" points=\"\n",
       "  2001.58,147.058 2150.95,147.058 \n",
       "  \"/>\n",
       "<path clip-path=\"url(#clip500)\" d=\"M2189.69 166.745 Q2187.89 171.375 2186.17 172.787 Q2184.46 174.199 2181.59 174.199 L2178.19 174.199 L2178.19 170.634 L2180.69 170.634 Q2182.45 170.634 2183.42 169.8 Q2184.39 168.967 2185.57 165.865 L2186.34 163.921 L2175.85 138.412 L2180.36 138.412 L2188.46 158.689 L2196.57 138.412 L2201.08 138.412 L2189.69 166.745 Z\" fill=\"#000000\" fill-rule=\"evenodd\" fill-opacity=\"1\" /><path clip-path=\"url(#clip500)\" d=\"M2208.37 160.402 L2216.01 160.402 L2216.01 134.037 L2207.7 135.703 L2207.7 131.444 L2215.96 129.778 L2220.64 129.778 L2220.64 160.402 L2228.28 160.402 L2228.28 164.338 L2208.37 164.338 L2208.37 160.402 Z\" fill=\"#000000\" fill-rule=\"evenodd\" fill-opacity=\"1\" /></svg>\n"
      ],
      "text/html": [
       "<?xml version=\"1.0\" encoding=\"utf-8\"?>\n",
       "<svg xmlns=\"http://www.w3.org/2000/svg\" xmlns:xlink=\"http://www.w3.org/1999/xlink\" width=\"600\" height=\"400\" viewBox=\"0 0 2400 1600\">\n",
       "<defs>\n",
       "  <clipPath id=\"clip550\">\n",
       "    <rect x=\"0\" y=\"0\" width=\"2400\" height=\"1600\"/>\n",
       "  </clipPath>\n",
       "</defs>\n",
       "<path clip-path=\"url(#clip550)\" d=\"\n",
       "M0 1600 L2400 1600 L2400 0 L0 0  Z\n",
       "  \" fill=\"#ffffff\" fill-rule=\"evenodd\" fill-opacity=\"1\"/>\n",
       "<defs>\n",
       "  <clipPath id=\"clip551\">\n",
       "    <rect x=\"480\" y=\"0\" width=\"1681\" height=\"1600\"/>\n",
       "  </clipPath>\n",
       "</defs>\n",
       "<path clip-path=\"url(#clip550)\" d=\"\n",
       "M112.177 1486.45 L2352.76 1486.45 L2352.76 47.2441 L112.177 47.2441  Z\n",
       "  \" fill=\"#ffffff\" fill-rule=\"evenodd\" fill-opacity=\"1\"/>\n",
       "<defs>\n",
       "  <clipPath id=\"clip552\">\n",
       "    <rect x=\"112\" y=\"47\" width=\"2242\" height=\"1440\"/>\n",
       "  </clipPath>\n",
       "</defs>\n",
       "<polyline clip-path=\"url(#clip552)\" style=\"stroke:#000000; stroke-linecap:butt; stroke-linejoin:round; stroke-width:2; stroke-opacity:0.1; fill:none\" points=\"\n",
       "  513.37,1486.45 513.37,47.2441 \n",
       "  \"/>\n",
       "<polyline clip-path=\"url(#clip552)\" style=\"stroke:#000000; stroke-linecap:butt; stroke-linejoin:round; stroke-width:2; stroke-opacity:0.1; fill:none\" points=\"\n",
       "  931.213,1486.45 931.213,47.2441 \n",
       "  \"/>\n",
       "<polyline clip-path=\"url(#clip552)\" style=\"stroke:#000000; stroke-linecap:butt; stroke-linejoin:round; stroke-width:2; stroke-opacity:0.1; fill:none\" points=\"\n",
       "  1349.06,1486.45 1349.06,47.2441 \n",
       "  \"/>\n",
       "<polyline clip-path=\"url(#clip552)\" style=\"stroke:#000000; stroke-linecap:butt; stroke-linejoin:round; stroke-width:2; stroke-opacity:0.1; fill:none\" points=\"\n",
       "  1766.9,1486.45 1766.9,47.2441 \n",
       "  \"/>\n",
       "<polyline clip-path=\"url(#clip552)\" style=\"stroke:#000000; stroke-linecap:butt; stroke-linejoin:round; stroke-width:2; stroke-opacity:0.1; fill:none\" points=\"\n",
       "  2184.74,1486.45 2184.74,47.2441 \n",
       "  \"/>\n",
       "<polyline clip-path=\"url(#clip550)\" style=\"stroke:#000000; stroke-linecap:butt; stroke-linejoin:round; stroke-width:4; stroke-opacity:1; fill:none\" points=\"\n",
       "  112.177,1486.45 2352.76,1486.45 \n",
       "  \"/>\n",
       "<polyline clip-path=\"url(#clip550)\" style=\"stroke:#000000; stroke-linecap:butt; stroke-linejoin:round; stroke-width:4; stroke-opacity:1; fill:none\" points=\"\n",
       "  513.37,1486.45 513.37,1467.55 \n",
       "  \"/>\n",
       "<polyline clip-path=\"url(#clip550)\" style=\"stroke:#000000; stroke-linecap:butt; stroke-linejoin:round; stroke-width:4; stroke-opacity:1; fill:none\" points=\"\n",
       "  931.213,1486.45 931.213,1467.55 \n",
       "  \"/>\n",
       "<polyline clip-path=\"url(#clip550)\" style=\"stroke:#000000; stroke-linecap:butt; stroke-linejoin:round; stroke-width:4; stroke-opacity:1; fill:none\" points=\"\n",
       "  1349.06,1486.45 1349.06,1467.55 \n",
       "  \"/>\n",
       "<polyline clip-path=\"url(#clip550)\" style=\"stroke:#000000; stroke-linecap:butt; stroke-linejoin:round; stroke-width:4; stroke-opacity:1; fill:none\" points=\"\n",
       "  1766.9,1486.45 1766.9,1467.55 \n",
       "  \"/>\n",
       "<polyline clip-path=\"url(#clip550)\" style=\"stroke:#000000; stroke-linecap:butt; stroke-linejoin:round; stroke-width:4; stroke-opacity:1; fill:none\" points=\"\n",
       "  2184.74,1486.45 2184.74,1467.55 \n",
       "  \"/>\n",
       "<path clip-path=\"url(#clip550)\" d=\"M503.752 1544.91 L511.39 1544.91 L511.39 1518.55 L503.08 1520.21 L503.08 1515.95 L511.344 1514.29 L516.02 1514.29 L516.02 1544.91 L523.659 1544.91 L523.659 1548.85 L503.752 1548.85 L503.752 1544.91 Z\" fill=\"#000000\" fill-rule=\"evenodd\" fill-opacity=\"1\" /><path clip-path=\"url(#clip550)\" d=\"M925.865 1544.91 L942.185 1544.91 L942.185 1548.85 L920.241 1548.85 L920.241 1544.91 Q922.903 1542.16 927.486 1537.53 Q932.092 1532.88 933.273 1531.53 Q935.518 1529.01 936.398 1527.27 Q937.301 1525.51 937.301 1523.82 Q937.301 1521.07 935.356 1519.33 Q933.435 1517.6 930.333 1517.6 Q928.134 1517.6 925.68 1518.36 Q923.25 1519.13 920.472 1520.68 L920.472 1515.95 Q923.296 1514.82 925.75 1514.24 Q928.203 1513.66 930.24 1513.66 Q935.611 1513.66 938.805 1516.35 Q942 1519.03 942 1523.52 Q942 1525.65 941.189 1527.57 Q940.402 1529.47 938.296 1532.07 Q937.717 1532.74 934.615 1535.95 Q931.514 1539.15 925.865 1544.91 Z\" fill=\"#000000\" fill-rule=\"evenodd\" fill-opacity=\"1\" /><path clip-path=\"url(#clip550)\" d=\"M1353.3 1530.21 Q1356.66 1530.93 1358.53 1533.2 Q1360.43 1535.47 1360.43 1538.8 Q1360.43 1543.92 1356.91 1546.72 Q1353.4 1549.52 1346.91 1549.52 Q1344.74 1549.52 1342.42 1549.08 Q1340.13 1548.66 1337.68 1547.81 L1337.68 1543.29 Q1339.62 1544.43 1341.94 1545.01 Q1344.25 1545.58 1346.78 1545.58 Q1351.17 1545.58 1353.47 1543.85 Q1355.78 1542.11 1355.78 1538.8 Q1355.78 1535.75 1353.63 1534.03 Q1351.5 1532.3 1347.68 1532.3 L1343.65 1532.3 L1343.65 1528.45 L1347.86 1528.45 Q1351.31 1528.45 1353.14 1527.09 Q1354.97 1525.7 1354.97 1523.11 Q1354.97 1520.45 1353.07 1519.03 Q1351.2 1517.6 1347.68 1517.6 Q1345.76 1517.6 1343.56 1518.01 Q1341.36 1518.43 1338.72 1519.31 L1338.72 1515.14 Q1341.38 1514.4 1343.7 1514.03 Q1346.03 1513.66 1348.1 1513.66 Q1353.42 1513.66 1356.52 1516.09 Q1359.62 1518.5 1359.62 1522.62 Q1359.62 1525.49 1357.98 1527.48 Q1356.34 1529.45 1353.3 1530.21 Z\" fill=\"#000000\" fill-rule=\"evenodd\" fill-opacity=\"1\" /><path clip-path=\"url(#clip550)\" d=\"M1769.91 1518.36 L1758.1 1536.81 L1769.91 1536.81 L1769.91 1518.36 M1768.68 1514.29 L1774.56 1514.29 L1774.56 1536.81 L1779.49 1536.81 L1779.49 1540.7 L1774.56 1540.7 L1774.56 1548.85 L1769.91 1548.85 L1769.91 1540.7 L1754.31 1540.7 L1754.31 1536.19 L1768.68 1514.29 Z\" fill=\"#000000\" fill-rule=\"evenodd\" fill-opacity=\"1\" /><path clip-path=\"url(#clip550)\" d=\"M2175.02 1514.29 L2193.38 1514.29 L2193.38 1518.22 L2179.3 1518.22 L2179.3 1526.7 Q2180.32 1526.35 2181.34 1526.19 Q2182.36 1526 2183.38 1526 Q2189.16 1526 2192.54 1529.17 Q2195.92 1532.34 2195.92 1537.76 Q2195.92 1543.34 2192.45 1546.44 Q2188.98 1549.52 2182.66 1549.52 Q2180.48 1549.52 2178.21 1549.15 Q2175.97 1548.78 2173.56 1548.04 L2173.56 1543.34 Q2175.64 1544.47 2177.87 1545.03 Q2180.09 1545.58 2182.57 1545.58 Q2186.57 1545.58 2188.91 1543.48 Q2191.25 1541.37 2191.25 1537.76 Q2191.25 1534.15 2188.91 1532.04 Q2186.57 1529.94 2182.57 1529.94 Q2180.69 1529.94 2178.82 1530.35 Q2176.96 1530.77 2175.02 1531.65 L2175.02 1514.29 Z\" fill=\"#000000\" fill-rule=\"evenodd\" fill-opacity=\"1\" /><polyline clip-path=\"url(#clip552)\" style=\"stroke:#000000; stroke-linecap:butt; stroke-linejoin:round; stroke-width:2; stroke-opacity:0.1; fill:none\" points=\"\n",
       "  112.177,1445.8 2352.76,1445.8 \n",
       "  \"/>\n",
       "<polyline clip-path=\"url(#clip552)\" style=\"stroke:#000000; stroke-linecap:butt; stroke-linejoin:round; stroke-width:2; stroke-opacity:0.1; fill:none\" points=\"\n",
       "  112.177,1229.06 2352.76,1229.06 \n",
       "  \"/>\n",
       "<polyline clip-path=\"url(#clip552)\" style=\"stroke:#000000; stroke-linecap:butt; stroke-linejoin:round; stroke-width:2; stroke-opacity:0.1; fill:none\" points=\"\n",
       "  112.177,1012.33 2352.76,1012.33 \n",
       "  \"/>\n",
       "<polyline clip-path=\"url(#clip552)\" style=\"stroke:#000000; stroke-linecap:butt; stroke-linejoin:round; stroke-width:2; stroke-opacity:0.1; fill:none\" points=\"\n",
       "  112.177,795.592 2352.76,795.592 \n",
       "  \"/>\n",
       "<polyline clip-path=\"url(#clip552)\" style=\"stroke:#000000; stroke-linecap:butt; stroke-linejoin:round; stroke-width:2; stroke-opacity:0.1; fill:none\" points=\"\n",
       "  112.177,578.856 2352.76,578.856 \n",
       "  \"/>\n",
       "<polyline clip-path=\"url(#clip552)\" style=\"stroke:#000000; stroke-linecap:butt; stroke-linejoin:round; stroke-width:2; stroke-opacity:0.1; fill:none\" points=\"\n",
       "  112.177,362.121 2352.76,362.121 \n",
       "  \"/>\n",
       "<polyline clip-path=\"url(#clip552)\" style=\"stroke:#000000; stroke-linecap:butt; stroke-linejoin:round; stroke-width:2; stroke-opacity:0.1; fill:none\" points=\"\n",
       "  112.177,145.385 2352.76,145.385 \n",
       "  \"/>\n",
       "<polyline clip-path=\"url(#clip550)\" style=\"stroke:#000000; stroke-linecap:butt; stroke-linejoin:round; stroke-width:4; stroke-opacity:1; fill:none\" points=\"\n",
       "  112.177,1486.45 112.177,47.2441 \n",
       "  \"/>\n",
       "<polyline clip-path=\"url(#clip550)\" style=\"stroke:#000000; stroke-linecap:butt; stroke-linejoin:round; stroke-width:4; stroke-opacity:1; fill:none\" points=\"\n",
       "  112.177,1445.8 131.075,1445.8 \n",
       "  \"/>\n",
       "<polyline clip-path=\"url(#clip550)\" style=\"stroke:#000000; stroke-linecap:butt; stroke-linejoin:round; stroke-width:4; stroke-opacity:1; fill:none\" points=\"\n",
       "  112.177,1229.06 131.075,1229.06 \n",
       "  \"/>\n",
       "<polyline clip-path=\"url(#clip550)\" style=\"stroke:#000000; stroke-linecap:butt; stroke-linejoin:round; stroke-width:4; stroke-opacity:1; fill:none\" points=\"\n",
       "  112.177,1012.33 131.075,1012.33 \n",
       "  \"/>\n",
       "<polyline clip-path=\"url(#clip550)\" style=\"stroke:#000000; stroke-linecap:butt; stroke-linejoin:round; stroke-width:4; stroke-opacity:1; fill:none\" points=\"\n",
       "  112.177,795.592 131.075,795.592 \n",
       "  \"/>\n",
       "<polyline clip-path=\"url(#clip550)\" style=\"stroke:#000000; stroke-linecap:butt; stroke-linejoin:round; stroke-width:4; stroke-opacity:1; fill:none\" points=\"\n",
       "  112.177,578.856 131.075,578.856 \n",
       "  \"/>\n",
       "<polyline clip-path=\"url(#clip550)\" style=\"stroke:#000000; stroke-linecap:butt; stroke-linejoin:round; stroke-width:4; stroke-opacity:1; fill:none\" points=\"\n",
       "  112.177,362.121 131.075,362.121 \n",
       "  \"/>\n",
       "<polyline clip-path=\"url(#clip550)\" style=\"stroke:#000000; stroke-linecap:butt; stroke-linejoin:round; stroke-width:4; stroke-opacity:1; fill:none\" points=\"\n",
       "  112.177,145.385 131.075,145.385 \n",
       "  \"/>\n",
       "<path clip-path=\"url(#clip550)\" d=\"M64.2328 1431.6 Q60.6217 1431.6 58.793 1435.16 Q56.9875 1438.7 56.9875 1445.83 Q56.9875 1452.94 58.793 1456.5 Q60.6217 1460.05 64.2328 1460.05 Q67.867 1460.05 69.6726 1456.5 Q71.5013 1452.94 71.5013 1445.83 Q71.5013 1438.7 69.6726 1435.16 Q67.867 1431.6 64.2328 1431.6 M64.2328 1427.89 Q70.0429 1427.89 73.0985 1432.5 Q76.1772 1437.08 76.1772 1445.83 Q76.1772 1454.56 73.0985 1459.17 Q70.0429 1463.75 64.2328 1463.75 Q58.4226 1463.75 55.344 1459.17 Q52.2884 1454.56 52.2884 1445.83 Q52.2884 1437.08 55.344 1432.5 Q58.4226 1427.89 64.2328 1427.89 Z\" fill=\"#000000\" fill-rule=\"evenodd\" fill-opacity=\"1\" /><path clip-path=\"url(#clip550)\" d=\"M56.2699 1242.41 L63.9087 1242.41 L63.9087 1216.04 L55.5986 1217.71 L55.5986 1213.45 L63.8624 1211.78 L68.5383 1211.78 L68.5383 1242.41 L76.1772 1242.41 L76.1772 1246.34 L56.2699 1246.34 L56.2699 1242.41 Z\" fill=\"#000000\" fill-rule=\"evenodd\" fill-opacity=\"1\" /><path clip-path=\"url(#clip550)\" d=\"M59.8578 1025.67 L76.1772 1025.67 L76.1772 1029.61 L54.2328 1029.61 L54.2328 1025.67 Q56.8949 1022.92 61.4782 1018.29 Q66.0846 1013.64 67.2652 1012.29 Q69.5105 1009.77 70.3902 1008.03 Q71.2929 1006.27 71.2929 1004.58 Q71.2929 1001.83 69.3485 1000.09 Q67.4272 998.358 64.3254 998.358 Q62.1263 998.358 59.6726 999.122 Q57.2421 999.886 54.4643 1001.44 L54.4643 996.714 Q57.2884 995.58 59.7421 995.001 Q62.1958 994.423 64.2328 994.423 Q69.6031 994.423 72.7976 997.108 Q75.992 999.793 75.992 1004.28 Q75.992 1006.41 75.1818 1008.33 Q74.3948 1010.23 72.2883 1012.83 Q71.7096 1013.5 68.6078 1016.71 Q65.5059 1019.91 59.8578 1025.67 Z\" fill=\"#000000\" fill-rule=\"evenodd\" fill-opacity=\"1\" /><path clip-path=\"url(#clip550)\" d=\"M69.0476 794.238 Q72.404 794.955 74.279 797.224 Q76.1772 799.492 76.1772 802.826 Q76.1772 807.941 72.6587 810.742 Q69.1402 813.543 62.6587 813.543 Q60.4828 813.543 58.168 813.103 Q55.8764 812.687 53.4227 811.83 L53.4227 807.316 Q55.3671 808.451 57.6819 809.029 Q59.9967 809.608 62.5198 809.608 Q66.918 809.608 69.2096 807.872 Q71.5244 806.136 71.5244 802.826 Q71.5244 799.77 69.3717 798.057 Q67.242 796.321 63.4226 796.321 L59.3949 796.321 L59.3949 792.479 L63.6078 792.479 Q67.0569 792.479 68.8855 791.113 Q70.7142 789.724 70.7142 787.131 Q70.7142 784.469 68.8161 783.057 Q66.9411 781.622 63.4226 781.622 Q61.5013 781.622 59.3023 782.039 Q57.1032 782.456 54.4643 783.335 L54.4643 779.168 Q57.1264 778.428 59.4412 778.057 Q61.7791 777.687 63.8393 777.687 Q69.1633 777.687 72.2652 780.118 Q75.367 782.525 75.367 786.645 Q75.367 789.516 73.7235 791.506 Q72.08 793.474 69.0476 794.238 Z\" fill=\"#000000\" fill-rule=\"evenodd\" fill-opacity=\"1\" /><path clip-path=\"url(#clip550)\" d=\"M66.5939 565.65 L54.7884 584.099 L66.5939 584.099 L66.5939 565.65 M65.367 561.576 L71.2466 561.576 L71.2466 584.099 L76.1772 584.099 L76.1772 587.988 L71.2466 587.988 L71.2466 596.136 L66.5939 596.136 L66.5939 587.988 L50.9921 587.988 L50.9921 583.474 L65.367 561.576 Z\" fill=\"#000000\" fill-rule=\"evenodd\" fill-opacity=\"1\" /><path clip-path=\"url(#clip550)\" d=\"M55.2745 344.841 L73.6309 344.841 L73.6309 348.776 L59.5569 348.776 L59.5569 357.248 Q60.5754 356.901 61.5939 356.739 Q62.6124 356.554 63.6309 356.554 Q69.418 356.554 72.7976 359.725 Q76.1772 362.896 76.1772 368.313 Q76.1772 373.892 72.705 376.993 Q69.2328 380.072 62.9134 380.072 Q60.7374 380.072 58.4689 379.702 Q56.2236 379.331 53.8162 378.591 L53.8162 373.892 Q55.8995 375.026 58.1217 375.581 Q60.3439 376.137 62.8208 376.137 Q66.8254 376.137 69.1633 374.03 Q71.5013 371.924 71.5013 368.313 Q71.5013 364.702 69.1633 362.595 Q66.8254 360.489 62.8208 360.489 Q60.9458 360.489 59.0708 360.906 Q57.2189 361.322 55.2745 362.202 L55.2745 344.841 Z\" fill=\"#000000\" fill-rule=\"evenodd\" fill-opacity=\"1\" /><path clip-path=\"url(#clip550)\" d=\"M64.6495 143.522 Q61.5013 143.522 59.6495 145.675 Q57.8208 147.827 57.8208 151.577 Q57.8208 155.304 59.6495 157.48 Q61.5013 159.633 64.6495 159.633 Q67.7976 159.633 69.6263 157.48 Q71.4781 155.304 71.4781 151.577 Q71.4781 147.827 69.6263 145.675 Q67.7976 143.522 64.6495 143.522 M73.9318 128.869 L73.9318 133.128 Q72.1726 132.295 70.367 131.855 Q68.5846 131.415 66.8254 131.415 Q62.1958 131.415 59.7421 134.54 Q57.3115 137.665 56.9643 143.985 Q58.33 141.971 60.3902 140.906 Q62.4504 139.818 64.9272 139.818 Q70.1355 139.818 73.1448 142.989 Q76.1772 146.138 76.1772 151.577 Q76.1772 156.901 73.029 160.119 Q69.8809 163.337 64.6495 163.337 Q58.6541 163.337 55.4828 158.753 Q52.3116 154.147 52.3116 145.42 Q52.3116 137.226 56.2004 132.364 Q60.0893 127.48 66.6402 127.48 Q68.3994 127.48 70.1818 127.827 Q71.9874 128.175 73.9318 128.869 Z\" fill=\"#000000\" fill-rule=\"evenodd\" fill-opacity=\"1\" /><polyline clip-path=\"url(#clip552)\" style=\"stroke:#009af9; stroke-linecap:butt; stroke-linejoin:round; stroke-width:4; stroke-opacity:1; fill:none\" points=\"\n",
       "  175.59,1442.12 179.825,1433 184.045,1403.47 188.279,1364.64 192.509,1321.35 196.719,1275.7 200.949,1227.91 205.173,1179.06 209.424,1130.77 213.631,1087.4 \n",
       "  217.844,1049.36 222.065,1018.56 226.286,996.495 230.503,983.384 234.712,979.83 238.923,985.732 243.137,1001.02 247.374,1025.11 251.62,1057.61 255.852,1096.98 \n",
       "  260.063,1140.64 264.277,1187.66 268.49,1234.19 272.71,1279.07 276.942,1321.19 281.173,1358.71 285.415,1394.18 289.658,1427.08 293.89,98.0541 298.124,131.28 \n",
       "  302.381,166.999 306.612,204.733 310.856,245.855 315.078,289.719 319.301,334.727 323.544,379.921 327.779,422.497 332.02,460.335 336.251,491.109 340.485,512.698 \n",
       "  344.726,525.187 348.967,527.597 353.21,519.867 357.445,503.286 361.686,477.229 365.928,443.816 370.156,404.731 374.398,361.864 378.641,317.605 382.88,274.073 \n",
       "  387.114,233.159 391.355,195.279 395.587,161.679 399.821,130.552 404.063,101.711 408.306,1435.89 412.549,1408.29 416.783,1380.18 421.025,1349.95 425.256,1317.86 \n",
       "  429.496,1282.93 433.716,1245.78 437.936,1207.55 442.178,1168.69 446.411,1131.37 450.653,1097.58 454.895,1069.08 459.137,1046.95 463.379,1032.67 467.623,1026.52 \n",
       "  471.867,1028.58 476.103,1039.18 480.335,1057.52 484.577,1082.35 488.82,1113.34 493.062,1148.35 497.28,1185.15 501.522,1222.72 505.755,1258.31 509.996,1291.27 \n",
       "  514.238,1320.69 518.481,1345.98 522.723,1368.83 526.952,1388.1 531.195,1406.84 535.43,1423.44 539.672,1439.77 543.915,94.5009 548.157,111.851 552.399,130.719 \n",
       "  556.643,151.082 560.876,173.897 565.11,199.559 569.351,228.151 573.587,259.174 577.821,292.691 582.063,327.495 586.307,362.196 590.539,394.757 594.781,424.471 \n",
       "  599.022,448.616 603.264,465.904 607.507,476.107 611.749,477.395 615.992,471.348 620.225,457.073 624.466,436.211 628.72,409.51 632.946,378.612 637.187,345.282 \n",
       "  641.431,311.641 645.646,279.454 649.863,249.72 654.092,223.06 658.308,200.203 662.497,180.921 666.717,163.3 670.935,147.882 675.171,135.435 679.402,125.004 \n",
       "  683.636,115.737 687.89,108.693 692.107,102.459 696.338,96.9943 700.569,92.3191 704.804,87.9763 709.04,1445.72 713.285,1442.1 717.542,1438.8 721.761,1435.06 \n",
       "  725.988,1431.13 730.216,1427.49 734.444,1423.25 738.661,1418.06 742.903,1412.57 747.147,1405.8 751.401,1397.63 755.629,1389.09 759.857,1378.33 764.1,1365.84 \n",
       "  768.342,1351.59 772.584,1334.61 776.841,1315.31 781.062,1293.09 785.29,1268.41 789.517,1241.73 793.744,1212.99 797.978,1184.19 802.219,1155.58 806.462,1128.75 \n",
       "  810.718,1105.58 814.939,1086.99 819.151,1074.1 823.379,1067.64 827.606,1067.7 831.848,1074.08 836.09,1087.09 840.316,1105.15 844.57,1127.96 848.797,1154.04 \n",
       "  853.024,1181.64 857.241,1209.58 861.465,1236.2 865.706,1261.09 869.931,1282.73 874.175,1300.7 878.415,1316.03 882.641,1327.52 886.868,1336.19 891.096,1342.3 \n",
       "  895.328,1344.88 899.569,1345.35 903.812,1343.15 908.067,1337.54 912.288,1328.13 916.516,1315.76 920.745,1300.62 924.993,1282.64 929.196,1261.9 933.433,1238.84 \n",
       "  937.651,1214.38 941.887,1188.78 946.093,1163.77 950.312,1140.12 954.54,1118.76 958.767,1101.78 963,1089.4 967.242,1082.31 971.484,1081.46 975.74,1086.24 \n",
       "  979.96,1096.71 984.192,1112.07 988.42,1131.5 992.659,1154.06 996.901,1178.29 1001.14,1203.06 1005.36,1227.2 1009.6,1248.9 1013.83,1268.66 1018.05,1285.32 \n",
       "  1022.28,1298.56 1026.51,1309.2 1030.75,1315.89 1035,1319.65 1039.25,1320.19 1043.48,1317.65 1047.71,1312.42 1051.93,1303.73 1056.16,1292.06 1060.41,1277.41 \n",
       "  1064.63,1259.76 1068.86,1239.67 1073.1,1217.77 1077.32,1194.98 1081.54,1171.95 1085.77,1149.91 1089.99,1130.08 1094.22,1113.67 1098.46,1101.18 1102.7,1093.82 \n",
       "  1106.95,1091.41 1111.19,1094.43 1115.42,1102.45 1119.64,1115.1 1123.88,1131.72 1128.13,1151.69 1132.37,1173.22 1136.62,1195.39 1140.84,1217.44 1145.07,1237.51 \n",
       "  1149.3,1255.9 1153.51,1271.36 1157.74,1283.14 1161.98,1292.64 1166.25,1298.14 1170.47,1300.82 1174.7,1299.81 1178.93,1295.82 1183.16,1288.9 1187.39,1278.82 \n",
       "  1191.63,1265.98 1195.87,1250.31 1200.12,1232.4 1204.35,1213.18 1208.58,1192.9 1212.8,1172.74 1217.04,1153.73 1221.26,1136.25 1225.48,1122.08 1229.72,1111.53 \n",
       "  1233.97,1105.13 1238.21,1103.67 1242.46,1106.42 1246.71,1113.69 1250.95,1125.3 1255.19,1140.08 1259.42,1157.12 1263.65,1176 1267.89,1195.04 1272.14,1214.28 \n",
       "  1276.38,1231.59 1280.62,1246.61 1284.87,1259.95 1289.11,1269.41 1293.34,1276.49 1297.58,1280.09 1301.82,1280.32 1306.06,1277.93 1310.31,1272.34 1314.55,1264.13 \n",
       "  1318.77,1253.24 1323,1239.84 1327.24,1225 1331.49,1208.38 1335.73,1190.99 1339.97,1174.24 1344.22,1158.07 1348.45,1143.63 1352.71,1131.62 1356.95,1122.44 \n",
       "  1361.19,1117.41 1365.41,1116.14 1369.65,1118.53 1373.9,1124.91 1378.13,1134.45 1382.37,1146.91 1386.61,1161.56 1390.87,1177.23 1395.11,1193.42 1399.36,1209 \n",
       "  1403.58,1223.34 1407.81,1236.33 1412.05,1246.38 1416.29,1254.88 1420.53,1260.35 1424.78,1262.05 1429,1261.84 1433.22,1259.04 1437.45,1253.84 1441.7,1245.68 \n",
       "  1445.94,1235.74 1450.2,1224.23 1454.44,1211.47 1458.68,1197.37 1462.92,1183.61 1467.13,1169.6 1471.36,1156.97 1475.6,1146.06 1479.81,1137.09 1484.04,1131.14 \n",
       "  1488.27,1128.11 1492.51,1128.48 1496.75,1131.99 1500.98,1138.39 1505.22,1147.35 1509.45,1158.38 1513.68,1170.52 1517.91,1184.05 1522.14,1196.89 1526.38,1209.65 \n",
       "  1530.61,1221.28 1534.85,1230.88 1539.09,1238.57 1543.34,1244.18 1547.58,1247.36 1551.82,1248.61 1556.07,1246.88 1560.3,1243.58 1564.54,1238.11 1568.78,1230.74 \n",
       "  1573.02,1222.03 1577.27,1211.87 1581.51,1200.79 1585.75,1189.57 1589.98,1178.14 1594.23,1167.32 1598.47,1157.82 1602.71,1149.93 1606.95,1144.25 1611.2,1140.83 \n",
       "  1615.43,1139.99 1619.67,1141.62 1623.91,1145.81 1628.16,1152.07 1632.4,1160.19 1636.64,1169.27 1640.89,1179.54 1645.12,1189.91 1649.36,1199.84 1653.59,1209.85 \n",
       "  1657.82,1217.85 1662.06,1225.06 1666.3,1230.18 1670.55,1233.52 1674.78,1235 1679.01,1234.41 1683.25,1232.15 1687.5,1228.1 1691.73,1221.78 1695.94,1214.59 \n",
       "  1700.18,1206.05 1704.42,1196.87 1708.64,1187.72 1712.87,1178.42 1717.08,1169.54 1721.32,1161.87 1725.57,1155.43 1729.81,1150.82 1734.06,1148.06 1738.29,1147.37 \n",
       "  1742.51,1148.99 1746.74,1152.32 1750.97,1157.57 1755.22,1164.49 1759.47,1172.16 1763.72,1180.91 1767.94,1189.68 1772.17,1198.4 1776.4,1206.59 1780.63,1213.78 \n",
       "  1784.87,1219.89 1789.11,1224.48 1793.35,1227.16 1797.59,1228.51 1801.83,1227.79 1806.07,1225.31 1810.31,1221.57 1814.56,1216.13 1818.8,1209.63 1823.04,1202.02 \n",
       "  1827.28,1193.87 1831.52,1185.48 1835.76,1177.23 1840,1169.23 1844.25,1162.6 1848.49,1157.08 1852.73,1153.48 1856.99,1151.42 1861.21,1151.42 1865.45,1153.67 \n",
       "  1869.69,1157.18 1873.94,1162.44 1878.18,1169.27 1882.41,1176.86 1886.65,1184.73 1890.9,1192.98 1895.14,1200.42 1899.38,1207.84 1903.62,1214.01 1907.86,1218.83 \n",
       "  1912.1,1222.53 1916.34,1224.52 1920.58,1224.94 1924.79,1223.61 1929.02,1220.99 1933.25,1216.81 1937.48,1211.5 1941.7,1204.95 1945.93,1197.99 1950.16,1189.99 \n",
       "  1954.4,1182.67 1958.64,1175.26 1962.89,1168.57 1967.13,1163 1971.37,1158.8 1975.6,1156.26 1979.84,1155.31 1984.08,1155.93 1988.32,1158.36 1992.56,1162.54 \n",
       "  1996.8,1167.46 2001.05,1173.84 2005.28,1180.62 2009.52,1188.2 2013.76,1195.25 2018.01,1201.77 2022.25,1207.94 2026.49,1213.26 2030.73,1216.79 2034.97,1219.33 \n",
       "  2039.21,1220.35 2043.45,1219.35 2047.69,1217.31 2051.94,1213.51 2056.18,1209.08 2060.41,1203.29 2064.65,1196.62 2068.9,1189.95 2073.14,1183.11 2077.37,1176.4 \n",
       "  2081.62,1170.46 2085.86,1165.41 2090.1,1161.5 2094.32,1158.97 2098.56,1157.99 2102.8,1158.74 2107.06,1160.67 2111.27,1164.04 2115.52,1168.86 2119.73,1174.22 \n",
       "  2123.97,1180.7 2128.22,1187.31 2132.45,1193.71 2136.69,1200.07 2140.93,1205.43 2145.17,1210.08 2149.41,1213.64 2153.65,1215.55 2157.89,1216.3 2162.14,1215.61 \n",
       "  2166.38,1213.53 2170.63,1210.64 2174.86,1206.2 2179.1,1201.15 2183.34,1195.68 2187.58,1189.57 2191.83,1183.73 2196.07,1177.92 2200.28,1172.43 2204.53,1168.09 \n",
       "  2208.75,1164.49 2212.99,1162.42 2217.23,1161.65 2221.48,1162.15 2225.72,1164.14 2229.96,1167.32 2234.2,1171.62 2238.43,1177 2242.68,1182.45 2246.92,1188.26 \n",
       "  2251.16,1193.87 2255.41,1198.94 2259.65,1203.47 2263.89,1206.57 2268.13,1209.42 2272.37,1210.87 2276.62,1211.1 2280.88,1210.23 2285.12,1208.4 2289.34,1205.39 \n",
       "  \n",
       "  \"/>\n",
       "<path clip-path=\"url(#clip550)\" d=\"\n",
       "M1976.69 198.898 L2278.07 198.898 L2278.07 95.2176 L1976.69 95.2176  Z\n",
       "  \" fill=\"#ffffff\" fill-rule=\"evenodd\" fill-opacity=\"1\"/>\n",
       "<polyline clip-path=\"url(#clip550)\" style=\"stroke:#000000; stroke-linecap:butt; stroke-linejoin:round; stroke-width:4; stroke-opacity:1; fill:none\" points=\"\n",
       "  1976.69,198.898 2278.07,198.898 2278.07,95.2176 1976.69,95.2176 1976.69,198.898 \n",
       "  \"/>\n",
       "<polyline clip-path=\"url(#clip550)\" style=\"stroke:#009af9; stroke-linecap:butt; stroke-linejoin:round; stroke-width:4; stroke-opacity:1; fill:none\" points=\"\n",
       "  2001.58,147.058 2150.95,147.058 \n",
       "  \"/>\n",
       "<path clip-path=\"url(#clip550)\" d=\"M2189.69 166.745 Q2187.89 171.375 2186.17 172.787 Q2184.46 174.199 2181.59 174.199 L2178.19 174.199 L2178.19 170.634 L2180.69 170.634 Q2182.45 170.634 2183.42 169.8 Q2184.39 168.967 2185.57 165.865 L2186.34 163.921 L2175.85 138.412 L2180.36 138.412 L2188.46 158.689 L2196.57 138.412 L2201.08 138.412 L2189.69 166.745 Z\" fill=\"#000000\" fill-rule=\"evenodd\" fill-opacity=\"1\" /><path clip-path=\"url(#clip550)\" d=\"M2208.37 160.402 L2216.01 160.402 L2216.01 134.037 L2207.7 135.703 L2207.7 131.444 L2215.96 129.778 L2220.64 129.778 L2220.64 160.402 L2228.28 160.402 L2228.28 164.338 L2208.37 164.338 L2208.37 160.402 Z\" fill=\"#000000\" fill-rule=\"evenodd\" fill-opacity=\"1\" /></svg>\n"
      ]
     },
     "execution_count": 13,
     "metadata": {},
     "output_type": "execute_result"
    }
   ],
   "source": [
    "plot(ts, φ_raws)"
   ]
  },
  {
   "cell_type": "markdown",
   "metadata": {},
   "source": [
    "Q: Can you tell from the figure how many full revolutions the base underwent during the experiment? And what approximately is the resolution of the base encoder?"
   ]
  },
  {
   "cell_type": "markdown",
   "metadata": {},
   "source": [
    "A: "
   ]
  },
  {
   "cell_type": "markdown",
   "metadata": {},
   "source": [
    "Q: Next compute the resolution of the encoder directly from the array `φ_raws`. "
   ]
  },
  {
   "cell_type": "code",
   "execution_count": 14,
   "metadata": {},
   "outputs": [
    {
     "data": {
      "text/plain": [
       "0.018029749085991885"
      ]
     },
     "execution_count": 14,
     "metadata": {},
     "output_type": "execute_result"
    }
   ],
   "source": [
    "# A:\n",
    "resolution = 360/(maximum(φ_raws)-minimum(φ_raws))\n",
    "# Hint: check out the functions minimum/maximum"
   ]
  },
  {
   "cell_type": "markdown",
   "metadata": {},
   "source": [
    "Q: The encoder uses a number of bits to store its value. Based on the resolution above, how many bits would you assume the encoder uses?"
   ]
  },
  {
   "cell_type": "code",
   "execution_count": null,
   "metadata": {},
   "outputs": [],
   "source": [
    "# A: 16 bits\n",
    "# Hint: The 2-logaritm is called log2 in Julia"
   ]
  },
  {
   "cell_type": "markdown",
   "metadata": {},
   "source": [
    "Q: Another thing that you might already have noticed in the figure above is that the encoder does not always cycle (jump) to 0, but rather at some varying small values. Can you explain this? Hint: Try to run the encoder experiment with some different sample periods, both smaller and larger than the nominal `h=0.01` and observe how the quantization effects change."
   ]
  },
  {
   "cell_type": "markdown",
   "metadata": {},
   "source": [
    "A: because the sampling period is not short enough, so the angle value comes to 0 in the interval of two samplings, and for the nwxt sampling it goes a little higher."
   ]
  },
  {
   "cell_type": "markdown",
   "metadata": {},
   "source": [
    "One conclusion from the recent experiment should be that as long as the sampling is fast and the encoder resolution is high, it is fair to approximate the encoder signal as being real rather than integer-valued. Ensuring these conditions, we can then obtain an angle in radians through dividing `φ_raws` by the resolution and multiplying by $2\\pi$. This is particularly useful since different hardware versions of the pendulums use encoders of different resolutions. To access angles in radians, we can use:"
   ]
  },
  {
   "cell_type": "code",
   "execution_count": 16,
   "metadata": {},
   "outputs": [
    {
     "name": "stdout",
     "output_type": "stream",
     "text": [
      "read(furuta.base_angle) = 5.8837871824216075\n",
      "read(furuta.arm_angle) = 0.006519325551232166\n"
     ]
    }
   ],
   "source": [
    "@show read(furuta.base_angle); # Here we use @show to get 2 printouts from the same code cell\n",
    "@show read(furuta.arm_angle);"
   ]
  },
  {
   "cell_type": "markdown",
   "metadata": {},
   "source": [
    "Re-run the base spinning experiment using the angle instead, `read(furuta.base_angle)`, and verify that it behaves as you would expect it to."
   ]
  },
  {
   "cell_type": "markdown",
   "metadata": {},
   "source": [
    "Q: Someone argues that the relation between the control signal $u$ and the measurement signal $y=[\\varphi~\\theta]^\\top$ is static, rather than dynamic. Explain the difference and plot the results of an experiment that you can use to show that the relation is in fact dynamic.\n"
   ]
  },
  {
   "cell_type": "markdown",
   "metadata": {},
   "source": [
    "A:"
   ]
  },
  {
   "cell_type": "code",
   "execution_count": null,
   "metadata": {},
   "outputs": [],
   "source": [
    "# A: (experiment and plot)"
   ]
  },
  {
   "cell_type": "markdown",
   "metadata": {},
   "source": [
    "## Angular velocity estimates\n",
    "The fact that $y$ and $u$ relate dynamically means that it is not sufficient to know $u(t)$ for times $t\\geq 0$ to uniquely determine $y$, and it is likely some variant of this that you have used in your answer above.\n",
    "\n",
    "However, we will see in lab 2 that the dynamics can be expressed on state space form as\n",
    "$$\n",
    "\\begin{align}\n",
    "\\dot{x} &= f(x,u),\\\\\n",
    "y &= g(x),\n",
    "\\end{align}\n",
    "$$\n",
    "where $x$ is a vector representing the (internal) state of the system.\n",
    "\n",
    "Certainly, the evolution of $y(t)$ will differ depending on the vales of $\\varphi(0)$ and $\\theta(0)$. But these two elements are not alone sufficient to capture the state of the pendulum. For instance, the evolution of the base angle $\\varphi$ with $u=0$ will differ depending on if the experiment starts with the base in stationarity ($\\dot{\\varphi}=0$) or in rotation ($\\dot{\\varphi}\\neq 0$). So at least we need to add $\\dot{\\varphi}$ and $\\dot{\\theta}$ as elements to our state vector:\n",
    "\n",
    "$$\n",
    "x=\n",
    "\\begin{bmatrix}\n",
    "\\varphi\\\\\n",
    "\\dot{\\varphi}\\\\\n",
    "\\theta\\\\\n",
    "\\dot{\\theta}\n",
    "\\end{bmatrix}\n",
    "$$\n",
    "\n",
    "Later, we will see that these four variables are not only necessary, but also sufficient for describing the basic dynamics of the pendulum."
   ]
  },
  {
   "cell_type": "markdown",
   "metadata": {},
   "source": [
    "But the encoders only give us $\\varphi$ and $\\theta$. How can we measure their time derivatives? The answer is: we cannot. \n",
    "There are sensors for measuring angles or angular accelerations, but none for *directly* measuring (angular) velocity. \n",
    "Angular velocities instead need to be computed as estimates based on measurements from one of the existing sensors. In our case, we can use the angle measurements as a basis for estimating angular velocitites."
   ]
  },
  {
   "cell_type": "markdown",
   "metadata": {},
   "source": [
    "The definition of the derivative inspires a simple way to estimate $\\dot{\\varphi}$:\n",
    "\n",
    "$$\n",
    "\\dot{\\varphi}(t)=\\frac{d\\varphi(t)}{dt}=\\lim_{h\\to 0}\\frac{\\varphi(t)-\\varphi(t-h)}{h}.\n",
    "$$\n",
    "\n",
    "Instead of taking the limit $h\\to 0$ we use a finite but small value. In our case the smallest possible value is the time between two consecutive samples, that we have conveniently already denoted by `h`."
   ]
  },
  {
   "cell_type": "markdown",
   "metadata": {},
   "source": [
    "Q: Write code that records $\\varphi$, $\\theta$ and the corresponding sampling times into vectors. For this you can use `read(furuta.base_angle)` and `read(furuta.arm_angle)`, as we have already done . Then compute and plot finite-difference estimates $\\dot{\\varphi}$ and $\\dot{\\theta}$ from the recorded values. Be careful to handle the discontinuety that occurs once per full revolution of $\\varphi$ and $\\theta$, respectively."
   ]
  },
  {
   "cell_type": "code",
   "execution_count": 5,
   "metadata": {},
   "outputs": [
    {
     "data": {
      "text/plain": [
       "([4.112927443350881, 12.415480277714199, 16.93107194628824, 19.385406271458, 20.957714198519884, 21.973962005035474, 22.30951552605479, 22.07942168307011, 20.507113756008245, 18.014430457007702  …  2.281763942931292, 2.396810864423582, 2.5310322728312684, 2.2721766994735937, 2.118780804150422, 1.7352910658426701, 1.3230395971618236, 0.8916136415655807, 0.2972045471885565, -0.17257038223847943], [4.841557946135655, 14.016549935149136, 20.67968413824674, 21.83015335317006, 22.146532387273975, 22.242404821850926, 22.462911421377886, 22.654656290531783, 22.903924620431827, 23.153192950331892  …  24.063981078812844, 24.102330052643637, 24.246138704509022, 24.0064576180667, 24.18861524376288, 24.18861524376288, 23.977695887693606, 24.18861524376288, 24.006457618066612, 23.872236209659015])"
      ]
     },
     "execution_count": 5,
     "metadata": {},
     "output_type": "execute_result"
    }
   ],
   "source": [
    "h=0.01 # 10 ms\n",
    "start_time=last_time=periodic_wait(furuta,0.0,0.0)\n",
    "\n",
    "φ_raws=Float64[] # Array for storing measurements\n",
    "θ_raws=Float64[]\n",
    "ts=Float64[]\n",
    "c= 0 \n",
    "φdot = Float64[]\n",
    "θdot = Float64[]\n",
    "\n",
    "u=2.5\n",
    "\n",
    "for k=1:round(5/h)\n",
    "    control(furuta,u)\n",
    "    last_time=periodic_wait(furuta,last_time,h)\n",
    "    φ_raw=read(furuta.base_angle)\n",
    "    θ_raw=read(furuta.arm_angle)\n",
    "    c=c+1\n",
    "    if k > 1 && φ_raw > φ_raws[c-1]\n",
    "        φdot = [φdot; (φ_raw - φ_raws[c-1])/h]\n",
    "    end\n",
    "    if k > 1 && (abs(θ_raw - θ_raws[c-1])<2)\n",
    "        θdot = [θdot; (θ_raw - θ_raws[c-1])/h]\n",
    "    end\n",
    "    \n",
    "    φ_raws=[φ_raws; φ_raw]\n",
    "    θ_raws=[θ_raws; θ_raw]\n",
    "    ts=[ts; last_time-start_time] \n",
    "end\n",
    "control(furuta,0.0) # It stops after 5 seconds, but we might as well stop it when we are done\n",
    "\n",
    "(θdot,φdot)"
   ]
  },
  {
   "cell_type": "markdown",
   "metadata": {},
   "source": [
    "If we want to control the pendulum, we need access to estimates of $\\dot{\\varphi}$ and $\\dot{\\theta}$ on-the-fly. To get this, we can store the latest values read using `read(furuta.base_angle)` and `read(furuta.arm_angle)` and the corresponding time stamps into variables."
   ]
  },
  {
   "cell_type": "markdown",
   "metadata": {},
   "source": [
    "Q: Write a function `measure(furuta, prev_state, h)` that returns the state as a tuple `(φ,φdot,θ,θdot)`, where the derivatives are finite difference approximations. The `furuta` is used for measuring the new angles, and the new angular velocities can be calculated similar to above, using the new and previous angles and the sampling time. Think about how to handle the first call to the function."
   ]
  },
  {
   "cell_type": "code",
   "execution_count": 7,
   "metadata": {},
   "outputs": [
    {
     "data": {
      "text/plain": [
       "480-element Vector{Float64}:\n",
       "  4.841557946135655\n",
       " 14.016549935149136\n",
       " 20.67968413824674\n",
       " 21.83015335317006\n",
       " 22.146532387273975\n",
       " 22.242404821850926\n",
       " 22.462911421377886\n",
       " 22.654656290531783\n",
       " 22.903924620431827\n",
       " 23.153192950331892\n",
       " 23.536682688639665\n",
       " 23.68049134050505\n",
       " 24.131091783016732\n",
       "  ⋮\n",
       " 24.063981078812844\n",
       " 23.939346913862856\n",
       " 24.063981078812844\n",
       " 24.102330052643637\n",
       " 24.246138704509022\n",
       " 24.0064576180667\n",
       " 24.18861524376288\n",
       " 24.18861524376288\n",
       " 23.977695887693606\n",
       " 24.18861524376288\n",
       " 24.006457618066612\n",
       " 23.872236209659015"
      ]
     },
     "execution_count": 7,
     "metadata": {},
     "output_type": "execute_result"
    }
   ],
   "source": [
    "φdot\n"
   ]
  },
  {
   "cell_type": "markdown",
   "metadata": {},
   "source": [
    "We can now measure the configuration (angles) of the pendulum, and we have a very simple means of estimating the corresponding angular velocities, all built into the `measure` command. Next, we will investigate how the control signal affects the pendulum."
   ]
  },
  {
   "cell_type": "markdown",
   "metadata": {},
   "source": [
    "## A little bit about DC motors\n",
    "The pendulum base is actuated by a permanent magnet brushless DC motor. Such motors are found in an abundance of application. Permanent magnet DC motors have a number of magnets configured on the rotor (the part that rotates) and a number of coils configured on the stator (the stationary part). The photo below shows what they look like on the inside.\n",
    "\n",
    "![Stator coils](img/lab1-coils.jpeg)\n",
    "\n",
    "The coils and magnets are grouped in groups of 3, making the motor electrically equivalent to the circuit diagram below.\n",
    "\n",
    "![3 phase BLDC motor](img/lab1-3phase.png)\n",
    "\n",
    "The little switches are transistors, and by closing or opening them each phase of the motor can be exposed to either of the voltages $u_{\\min}$, $u_{\\max}$, or it can be left unconnected. Commutating the motor is the act of opening and closing these switches based on the relative position of the stator and the rotor. In a brushed DC motor, this is done automatically by brushes that gain and lose contact as the rotor rotates. In a brushless motor, commutation is instead done in software. This software is part of the firmware of the physical furuta pendulum unit. (Another essential part of the firmware handles communicaton with the PC, making it possible for us to issue control signals and read measurements from the device.)\n",
    "\n",
    "The role of the commutation firmware is to ensure that the right combination of switches are closed for the desired flux interactions between the permanent magnets and the magnetic field arising from running current through the phases. Typically (and indeed here) the desired flux interaction is the one that produces a driving torque, but it could also for instance be desired to commutate the motor such that the rotor is locked relative to the stator.\n",
    "\n",
    "Assuming the commutation switching is correctly handled (the firmware does it for us), the torque between the rotor and stator is proportional to the current drawn by the motor phases. A type of pulse width modulation (PWM) is used to control the phase currents. PWM is a very common technique for turning a binary control signal into an analog one by executing a periodic task where t$u=u_{\\max}$ for a fixed fraction $\\alpha$ of the period and $u=_{\\min}$ during the remainder. If the period is chosen short, it will appear as if the control signal was in fact $\\alpha u_{\\max}+(1-\\alpha)u_{\\min}$. This is for example the technique used to \"dim\" LED lights, that are turned on/off with high frequency rather than actually being dimmed.\n",
    "\n",
    "Sophisticated brushless DC motor controllers often measure the phase current and have feedback controller built into the firmware that tries to drive the phase current toward an external signal $u$. In this setting, the control signal $u$ is a torque reference, but it is often assumed that the feedback loop is fast and well-tuned and therefore that the motor torque in fact is $\\tau=u$."
   ]
  },
  {
   "cell_type": "markdown",
   "metadata": {},
   "source": [
    "## A motor model for the Furuta pendulum\n",
    "Here we use a simpler scheme, where $u$ controls the PWM duty cycle $\\alpha$ directly. The magnitude $|u|$ determines $\\alpha$ and the sign of $u$ determines whether the conrol signal will force turning in the positive or negative direction. The commutation frequency is fixed in the firmware to 20 kHz. From a dynamical modeling perspective, this makes our motor equivalent to a regular brushed DC motor (albeit one with virtual and always optimally positioned brushes), and we can model its electric properties using the standard model of a DC motor:\n",
    "\n",
    "$$\n",
    "u=Ri + L\\frac{di}{dt}+k_v\\frac{d\\varphi}{dt},\n",
    "$$\n",
    "\n",
    "where $L$ is a constant inductance, $R$ is a constant resistance, $u$ is our PWM controlled voltage and $i$ is the associated current. The term $k_v\\dot{\\varphi}$ is known as the back-electromotive force, or back-EMF for short. The motor is also a generator (like the one in old bicycle dynamos) and as it spins, the same flux linkage that produces torque also induces a back-EMF, counteracting the driving voltage. The back-EMF is therefore proportional to $\\dot{\\varphi}$ with a motor-specific proportionality constant $k_v$, often referred to as the back-EMF constant.\n",
    "\n",
    "It follows from Maxwell's laws that the torque $\\tau=k_a i$ that the motor exerts between the stator and rotor is proportional to the electromagnetic flux density generated by the stator coils, and thus proportional to the stator current, through the motor parameter $k_a$, often referred to as the torque constant."
   ]
  },
  {
   "cell_type": "markdown",
   "metadata": {},
   "source": [
    "Q: It is always good practice to verify that units of individual terms of the model match. For physical systems like ours, it is preferential to use the SI unit system. What are the parameters of the motor, and what are their SI units? Show that units match across the motor model equations."
   ]
  },
  {
   "cell_type": "markdown",
   "metadata": {},
   "source": [
    "A:L is constant inductance unit Henry(H) \n",
    "  R is resistance unit Ohm (Ω)\n",
    "  voltage is volts(V)\n",
    "  current is amperes (A)\n",
    "  torque is Newton meters (N.m)"
   ]
  },
  {
   "cell_type": "markdown",
   "metadata": {},
   "source": [
    "## Motor model parameter values\n",
    "In control systems lingo, system identification is another word for learning dynamic model parameters from signals (data).\n",
    "\n",
    "The signals from the motor model that are directly available to us are $u$ and $\\varphi$. We can also count in $\\dot{\\varphi}=\\omega$ as being available, through the finite difference estimate that we have introduced earlier. However, without additional instrumentation, the signals $i$ and $\\tau$ cannot be directly measurable."
   ]
  },
  {
   "cell_type": "markdown",
   "metadata": {},
   "source": [
    "Q: Can you write down the transfer functions from $u$ and $\\omega$ to $\\tau$? Hint: Apply the Laplace transform to the motor model (replacing the operator $d/dt$ with the Laplace variable $s$, assuming the system starts in rest), then solve for $I$. You can write your answer by hand on a paper that you bring to the examination. Even better is if you write it directly in the notebook using LaTeX markdown. You can click on cells with equations in them to get an idea of how, and there is a lot of good LaTeX documentation online to aid you further."
   ]
  },
  {
   "cell_type": "markdown",
   "metadata": {},
   "source": [
    "A: "
   ]
  },
  {
   "cell_type": "markdown",
   "metadata": {},
   "source": [
    "Q: While you are at it, can you also draw a block diagram representation of the dynamics?"
   ]
  },
  {
   "cell_type": "markdown",
   "metadata": {},
   "source": [
    "A: (Bring the photo separately, or link to it from here)"
   ]
  },
  {
   "cell_type": "markdown",
   "metadata": {},
   "source": [
    "The transfer function can be written on the form\n",
    "\n",
    "$$\n",
    "\\tau=\\frac{K(u-k_v\\omega)}{sT+1},\n",
    "$$\n",
    "\n",
    "where the gain parameter $K$ and the time constant $T$ are functions of the basic motor parameters."
   ]
  },
  {
   "cell_type": "markdown",
   "metadata": {},
   "source": [
    "Q: Can you show that the transfer functions from $u$ to $\\tau$ and from $\\omega$ to $\\tau$ are asymptotically stable?"
   ]
  },
  {
   "cell_type": "markdown",
   "metadata": {},
   "source": [
    "A:R and L are positive values so S has to be a negative value thus the poles are on the left side. "
   ]
  },
  {
   "cell_type": "markdown",
   "metadata": {},
   "source": [
    "Q: The datasheet of the motor reveils that $R=0.13~\\Omega$, while $L=2\\cdot 10^{-5}$ H. How many seconds is the motor time constant $T$?"
   ]
  },
  {
   "cell_type": "markdown",
   "metadata": {},
   "source": [
    "0.00002/0.13 = 0.00015384615"
   ]
  },
  {
   "cell_type": "markdown",
   "metadata": {},
   "source": [
    "Q: In the upcoming labs we will treat `u` as being directly proportional to the motor torque. Under what circumstances (if any) is this a fair approximaton? Can we decrease the approximation error if we have access to $\\dot{\\varphi}$ and $k_v$? What about if we have access to measurements of the current $i$?"
   ]
  },
  {
   "cell_type": "markdown",
   "metadata": {},
   "source": [
    "A: when u is smooth and omega is small"
   ]
  },
  {
   "cell_type": "markdown",
   "metadata": {},
   "source": [
    "**Make sure you have completed all cells above marked with \"A\" with either text or code, and bring this notebook to the lab examination.** If you get stuck along the way, collaborate with fellow students, search for information online, and don't hesitate to contact the instructors."
   ]
  },
  {
   "cell_type": "markdown",
   "metadata": {},
   "source": [
    "## Bonus\n",
    "Now you have all you need to measure (estimate) the state of the Furuta pendulum, and some insight into what the control signal does. Based on this, try designing a controller that moves the base from wherever it happens to be to the angle $\\varphi=\\pi/2$ rad. Use the measurement of $\\varphi$ and possibly the estimate of $\\dot{\\varphi}$ for this, and think about how to handle the discontinuiety of the angle measurement. How fast can you make the move without excessively overshooting the reference angle? How small stationary error (difference between the refernce angle and where the base ends up) can you achieve? You can use any home-made control strategy you like. If you have taken a control course previously, you may of course use an established one as well."
   ]
  },
  {
   "cell_type": "code",
   "execution_count": null,
   "metadata": {},
   "outputs": [],
   "source": [
    "#A:"
   ]
  }
 ],
 "metadata": {
  "kernelspec": {
   "display_name": "Julia 1.6.1",
   "language": "julia",
   "name": "julia-1.6"
  },
  "language_info": {
   "file_extension": ".jl",
   "mimetype": "application/julia",
   "name": "julia",
   "version": "1.6.1"
  }
 },
 "nbformat": 4,
 "nbformat_minor": 4
}
